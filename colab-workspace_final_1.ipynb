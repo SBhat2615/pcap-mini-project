{
  "nbformat": 4,
  "nbformat_minor": 0,
  "metadata": {
    "colab": {
      "provenance": [],
      "gpuType": "T4",
      "include_colab_link": true
    },
    "kernelspec": {
      "name": "python3",
      "display_name": "Python 3"
    },
    "language_info": {
      "name": "python"
    },
    "accelerator": "GPU",
    "gpuClass": "standard"
  },
  "cells": [
    {
      "cell_type": "markdown",
      "metadata": {
        "id": "view-in-github",
        "colab_type": "text"
      },
      "source": [
        "<a href=\"https://colab.research.google.com/github/SBhat2615/pcap-mini-project/blob/main/colab-workspace_final_1.ipynb\" target=\"_parent\"><img src=\"https://colab.research.google.com/assets/colab-badge.svg\" alt=\"Open In Colab\"/></a>"
      ]
    },
    {
      "cell_type": "code",
      "source": [
        "# To show that if there is cuda tookit installed\n",
        "!ls /usr/local"
      ],
      "metadata": {
        "id": "FJNaVYXrsyX1",
        "colab": {
          "base_uri": "https://localhost:8080/"
        },
        "outputId": "d8037221-8cdf-4fc9-8f90-ef9d9f3619ec"
      },
      "execution_count": 1,
      "outputs": [
        {
          "output_type": "stream",
          "name": "stdout",
          "text": [
            "bin    cuda\tcuda-11.8  games\t       include\tlib64\t   man\t share\n",
            "colab  cuda-11\tetc\t   _gcs_config_ops.so  lib\tlicensing  sbin  src\n"
          ]
        }
      ]
    },
    {
      "cell_type": "code",
      "source": [
        "\n",
        "# To show that if we have the nvcc command\n",
        "!which nvcc"
      ],
      "metadata": {
        "id": "EWeDREa1tIGH",
        "colab": {
          "base_uri": "https://localhost:8080/"
        },
        "outputId": "04681c03-f5eb-4bc4-9a28-4315ffd70a2e"
      },
      "execution_count": 2,
      "outputs": [
        {
          "output_type": "stream",
          "name": "stdout",
          "text": [
            "/usr/local/cuda/bin/nvcc\n"
          ]
        }
      ]
    },
    {
      "cell_type": "code",
      "source": [
        "# To show the property of the nvidia card(On my one, I use the K80)\n",
        "!nvidia-smi"
      ],
      "metadata": {
        "id": "hctj5aYxtSwK",
        "colab": {
          "base_uri": "https://localhost:8080/"
        },
        "outputId": "7bd1341a-3f00-47fe-a95e-bf7c55e98b71"
      },
      "execution_count": 3,
      "outputs": [
        {
          "output_type": "stream",
          "name": "stdout",
          "text": [
            "Sun May  7 07:05:57 2023       \n",
            "+-----------------------------------------------------------------------------+\n",
            "| NVIDIA-SMI 525.85.12    Driver Version: 525.85.12    CUDA Version: 12.0     |\n",
            "|-------------------------------+----------------------+----------------------+\n",
            "| GPU  Name        Persistence-M| Bus-Id        Disp.A | Volatile Uncorr. ECC |\n",
            "| Fan  Temp  Perf  Pwr:Usage/Cap|         Memory-Usage | GPU-Util  Compute M. |\n",
            "|                               |                      |               MIG M. |\n",
            "|===============================+======================+======================|\n",
            "|   0  Tesla T4            Off  | 00000000:00:04.0 Off |                    0 |\n",
            "| N/A   60C    P8    10W /  70W |      0MiB / 15360MiB |      0%      Default |\n",
            "|                               |                      |                  N/A |\n",
            "+-------------------------------+----------------------+----------------------+\n",
            "                                                                               \n",
            "+-----------------------------------------------------------------------------+\n",
            "| Processes:                                                                  |\n",
            "|  GPU   GI   CI        PID   Type   Process name                  GPU Memory |\n",
            "|        ID   ID                                                   Usage      |\n",
            "|=============================================================================|\n",
            "|  No running processes found                                                 |\n",
            "+-----------------------------------------------------------------------------+\n"
          ]
        }
      ]
    },
    {
      "cell_type": "code",
      "source": [],
      "metadata": {
        "id": "iYzFu-yMxFoF"
      },
      "execution_count": 3,
      "outputs": []
    },
    {
      "cell_type": "markdown",
      "source": [
        "#Download Image"
      ],
      "metadata": {
        "id": "Hg6mF372xGwL"
      }
    },
    {
      "cell_type": "code",
      "source": [
        "!wget https://raw.githubusercontent.com/SBhat2615/pcap-mini-project/main/image.jpg"
      ],
      "metadata": {
        "id": "4FYHP7aypzL_",
        "outputId": "a214a57f-4141-49cf-9546-220ac647b347",
        "colab": {
          "base_uri": "https://localhost:8080/"
        }
      },
      "execution_count": 4,
      "outputs": [
        {
          "output_type": "stream",
          "name": "stdout",
          "text": [
            "--2023-05-07 07:05:58--  https://raw.githubusercontent.com/SBhat2615/pcap-mini-project/main/image.jpg\n",
            "Resolving raw.githubusercontent.com (raw.githubusercontent.com)... 185.199.108.133, 185.199.109.133, 185.199.110.133, ...\n",
            "Connecting to raw.githubusercontent.com (raw.githubusercontent.com)|185.199.108.133|:443... connected.\n",
            "HTTP request sent, awaiting response... 200 OK\n",
            "Length: 8352 (8.2K) [image/jpeg]\n",
            "Saving to: ‘image.jpg’\n",
            "\n",
            "image.jpg           100%[===================>]   8.16K  --.-KB/s    in 0s      \n",
            "\n",
            "2023-05-07 07:05:58 (84.3 MB/s) - ‘image.jpg’ saved [8352/8352]\n",
            "\n"
          ]
        }
      ]
    },
    {
      "cell_type": "code",
      "source": [
        "!ls -l"
      ],
      "metadata": {
        "id": "NnY4xJJ7qHiO",
        "outputId": "78c09fa5-ed7e-4b55-9e1a-8f04a326150b",
        "colab": {
          "base_uri": "https://localhost:8080/"
        }
      },
      "execution_count": 5,
      "outputs": [
        {
          "output_type": "stream",
          "name": "stdout",
          "text": [
            "total 16\n",
            "-rw-r--r-- 1 root root 8352 May  7 07:05 image.jpg\n",
            "drwxr-xr-x 1 root root 4096 May  3 13:31 sample_data\n"
          ]
        }
      ]
    },
    {
      "cell_type": "code",
      "source": [
        "!pwd"
      ],
      "metadata": {
        "id": "oKCLg47Fus7M",
        "outputId": "f8c3538b-4d5c-417b-eb6b-97023bfdbd1a",
        "colab": {
          "base_uri": "https://localhost:8080/"
        }
      },
      "execution_count": 6,
      "outputs": [
        {
          "output_type": "stream",
          "name": "stdout",
          "text": [
            "/content\n"
          ]
        }
      ]
    },
    {
      "cell_type": "markdown",
      "source": [
        "**RUN THE BELOW 2 CELLS ONLY IF YOU HAVE RGB IMAGE UPLOADED**\n",
        "\n"
      ],
      "metadata": {
        "id": "5eiUA-Pe_wS_"
      }
    },
    {
      "cell_type": "markdown",
      "source": [
        "# Image to GrayScale"
      ],
      "metadata": {
        "id": "ZWsVdRuLyIrG"
      }
    },
    {
      "cell_type": "code",
      "source": [
        "from matplotlib import pyplot as plt\n",
        "import cv2\n",
        "from google.colab.patches import cv2_imshow\n",
        "from pprint import pprint\n",
        "\n",
        "img = cv2.imread('./image.jpg')\n",
        "img = cv2.cvtColor(img, cv2.COLOR_BGR2GRAY)\n",
        "\n",
        "\n",
        "pprint(img)\n",
        "\n",
        "print(img.shape)\n",
        "\n",
        "# plt.imshow(img)\n",
        "# plt.axis(\"off\")\n",
        "# plt.show()\n",
        "cv2_imshow(img)"
      ],
      "metadata": {
        "id": "a4sbggmW7JWx",
        "outputId": "397ff3b5-8c6b-498d-8f75-6c72fe8ee694",
        "colab": {
          "base_uri": "https://localhost:8080/",
          "height": 323
        }
      },
      "execution_count": 7,
      "outputs": [
        {
          "output_type": "stream",
          "name": "stdout",
          "text": [
            "array([[219, 221, 232, ..., 189, 205, 218],\n",
            "       [209, 208, 218, ..., 201, 215, 226],\n",
            "       [204, 200, 209, ..., 213, 223, 230],\n",
            "       ...,\n",
            "       [253, 253, 253, ...,  35,  34,  32],\n",
            "       [254, 254, 254, ...,  31,  32,  34],\n",
            "       [254, 254, 254, ...,  31,  32,  34]], dtype=uint8)\n",
            "(170, 115)\n"
          ]
        },
        {
          "output_type": "display_data",
          "data": {
            "text/plain": [
              "<PIL.Image.Image image mode=L size=115x170 at 0x7FE35E6A62F0>"
            ],
            "image/png": "[encoded data removed]"
          },
          "metadata": {}
        }
      ]
    },
    {
      "cell_type": "markdown",
      "source": [
        "Storing in txt"
      ],
      "metadata": {
        "id": "TYLAou0ha8M-"
      }
    },
    {
      "cell_type": "code",
      "source": [
        "with open(\"image_text.txt\", \"w\") as f:\n",
        "    for i in img:\n",
        "        for j in i:\n",
        "            f.write(str(j)+\" \")\n",
        "        f.write(\"\\n\")"
      ],
      "metadata": {
        "id": "vdfR_3n3a78O"
      },
      "execution_count": 8,
      "outputs": []
    },
    {
      "cell_type": "markdown",
      "source": [
        "# Load Image"
      ],
      "metadata": {
        "id": "Bp35fKpGnzfN"
      }
    },
    {
      "cell_type": "code",
      "source": [
        "%%writefile loadImg.c\n",
        "#include <stdio.h>\n",
        "#include <stdlib.h>\n",
        "\n",
        "// Define Image Height & Width\n",
        "#define IMG_WIDTH 512\n",
        "#define IMG_HEIGHT 512\n",
        "\n",
        "int main() {\n",
        "    FILE *fp;\n",
        "    char *filename = \"./image_text.txt\";\n",
        "    unsigned char img[IMG_HEIGHT][IMG_WIDTH];\n",
        "    int i, j;\n",
        "\n",
        "    // Open image file\n",
        "    if ((fp = fopen(filename, \"rb\")) == NULL) {\n",
        "        printf(\"Error: Image file not found\\n\");\n",
        "        return 1;\n",
        "    }\n",
        "\n",
        "    // Skip image header\n",
        "    //fseek(fp, 8, SEEK_SET);\n",
        "\n",
        "    // Read image pixel values\n",
        "    for (i = 0; i < IMG_HEIGHT; i++) {\n",
        "        for (j = 0; j < IMG_WIDTH; j++) {\n",
        "            img[i][j] = fgetc(fp);\n",
        "        }\n",
        "    }\n",
        "\n",
        "    // Close image file\n",
        "    fclose(fp);\n",
        "\n",
        "    // Print image data255 255 255 255 255 255 255 255 255 255 255 255 255 255 255 255 255 255 255 \n",
        "255 255 255 255 255 255 255 255 255 255 255 255 255 255 255 255 255 255 255 255 255 255 255 255 255 \n",
        "255 255 255 255 255 255 255 255 255 255 255 255 255 255 255 255 255 255 255 255 255 255 255 255 255 \n",
        "255 255 255 255 255 255 255 255 255 255 255 255 255 255 255 255 255 255 255 255 255 255 255 255 255 \n",
        "255 255 255 255 255 255 255 255 255 255 255 255 255 255 255 255 255 255 255 255 255 255 255 255 255 \n",
        "255 255 255 255 255 255 255 255 255 255 255 255 255 255 255 255 255 255 255 255 255 255 255 255 255 \n",
        "255 255 255 255 255 255 255 255 255 255 255 255 255 255 255 255 255 255 255 255 255 255 255 255 255 \n",
        "255 255 255 255 255 255 255 255 255 255 255 255 255 255 255 255 255 255 255 255 255 255 255 255 255 \n",
        "255 255 255 255 255 255 255 255 255 255 255 255 255 255 255 255 255 255 255 255 255 255 255 255 255 \n",
        "255 255 255 255 255 255 255 255 255 255 255 255 255 255 255 255 255 255 255 255 255 255 255 255 255 \n",
        "255 255 255 255 255 255 255 255 255 255 255 255 255 255 255 255 255 255 255 255 255 255 255 255 255 \n",
        "255 255 255 255 255 255 255 255 255 255 255 255 255 255 255 255 255 255 255 255 255 255 255 255 255 \n",
        "255 255 255 255 255 255 255 255 255 255 255 255 255 255 255 255 255 255 255 255 255 255 255 255 255 \n",
        "255 255 255 255 255 255 255 255 255 255 255 255 255 255 255 255 255 255 255 255 255 255 255 255 255 \n",
        "255 255 255 255 255 255 255 255 255 255 255 255 255 255 255 255 255 255 255 255 255 255 255 255 255 \n",
        "\n",
        "    /*\n",
        "    for (i = 0; i < IMG_HEIGHT; i++) {\n",
        "        for (j = 0; j < IMG_WIDTH; j++) {\n",
        "            printf(\"%u \", img[i][j]);\n",
        "        }\n",
        "        printf(\"\\n\");\n",
        "    }\n",
        "    */\n",
        "    printf(\"Image Width : %d\\n\", IMG_WIDTH);\n",
        "    printf(\"Image Height : %d\\n\", IMG_HEIGHT);\n",
        "\n",
        "    printf(\"Image Matrix:\\n\");\n",
        "    for (i = 0; i < 25; i++) {\n",
        "        for (j = 0; j < 25; j++) {\n",
        "            printf(\"%u \", img[i][j]);\n",
        "        }\n",
        "        printf(\"\\n\");\n",
        "    }\n",
        "\n",
        "    return 0;\n",
        "}\n"
      ],
      "metadata": {
        "id": "lW6gCVh_nsVq",
        "outputId": "de709044-f9d4-4e1c-a2d8-46d3a9c1bdf8",
        "colab": {
          "base_uri": "https://localhost:8080/"
        }
      },
      "execution_count": 9,
      "outputs": [
        {
          "output_type": "stream",
          "name": "stdout",
          "text": [
            "Writing loadImg.c\n"
          ]
        }
      ]
    },
    {
      "cell_type": "code",
      "source": [
        "%%writefile load_img.cu\n",
        "#include <stdio.h>\n",
        "#include <stdlib.h>\n",
        "\n",
        "#define MAX_ROWS 170\n",
        "#define MAX_COLS 115\n",
        "\n",
        "int main() {\n",
        "    FILE* file = fopen(\"image_text.txt\", \"r\");\n",
        "    int matrix[MAX_ROWS][MAX_COLS];\n",
        "    int num_rows = 0;\n",
        "    int num_cols = 0;\n",
        "\n",
        "    if (file == NULL) {\n",
        "        printf(\"Error: could not open file.\\n\");\n",
        "        return 1;\n",
        "    }\n",
        "\n",
        "    // Read the contents of the file\n",
        "    while (!feof(file) && num_rows < MAX_ROWS) {\n",
        "        for (num_cols = 0; num_cols < MAX_COLS && !feof(file); num_cols++) {\n",
        "            fscanf(file, \"%d\", &matrix[num_rows][num_cols]);\n",
        "        }\n",
        "        num_rows++;\n",
        "    }\n",
        "\n",
        "    // Print the contents of the matrix\n",
        "    for (int i = 0; i < num_rows; i++) {\n",
        "        for (int j = 0; j < num_cols; j++) {\n",
        "            printf(\"%d \", matrix[i][j]);\n",
        "        }\n",
        "        printf(\"\\n\");\n",
        "    }\n",
        "\n",
        "    fclose(file);\n",
        "    return 0;\n",
        "}\n"
      ],
      "metadata": {
        "colab": {
          "base_uri": "https://localhost:8080/"
        },
        "id": "jYRTaOZeb9MJ",
        "outputId": "73b37ded-a0a5-4fed-a0be-f92b0042b851"
      },
      "execution_count": 10,
      "outputs": [
        {
          "output_type": "stream",
          "name": "stdout",
          "text": [
            "Writing load_img.cu\n"
          ]
        }
      ]
    },
    {
      "cell_type": "code",
      "source": [
        "!gcc loadImg.c"
      ],
      "metadata": {
        "id": "l9EBu7i8uBDF",
        "colab": {
          "base_uri": "https://localhost:8080/"
        },
        "outputId": "b55fba6c-78dd-47ac-abb5-a0ee10938f98"
      },
      "execution_count": 11,
      "outputs": [
        {
          "output_type": "stream",
          "name": "stdout",
          "text": [
            "\u001b[01m\u001b[KloadImg.c:\u001b[m\u001b[K In function ‘\u001b[01m\u001b[Kmain\u001b[m\u001b[K’:\n",
            "\u001b[01m\u001b[KloadImg.c:34:4:\u001b[m\u001b[K \u001b[01;31m\u001b[Kerror: \u001b[m\u001b[Kexpected ‘\u001b[01m\u001b[K;\u001b[m\u001b[K’ before numeric constant\n",
            "   34 | 255\u001b[01;31m\u001b[K \u001b[m\u001b[K\u001b[32m\u001b[K255\u001b[m\u001b[K 255 255 255 255 255 255 255 255 255 255 255 255 255 255 255 255 255 255 255 255 255 255 255\n",
            "      |    \u001b[01;31m\u001b[K^\u001b[m\u001b[K\u001b[32m\u001b[K~~~\u001b[m\u001b[K\n",
            "      |    \u001b[32m\u001b[K;\u001b[m\u001b[K\n"
          ]
        }
      ]
    },
    {
      "cell_type": "code",
      "source": [
        "!gcc load_img.c\n",
        "!./a.out"
      ],
      "metadata": {
        "colab": {
          "base_uri": "https://localhost:8080/"
        },
        "id": "w0rnAcUJcBv9",
        "outputId": "2dbc8599-bb93-493f-fd22-f0470af41689"
      },
      "execution_count": 12,
      "outputs": [
        {
          "output_type": "stream",
          "name": "stdout",
          "text": [
            "\u001b[01m\u001b[Kgcc:\u001b[m\u001b[K \u001b[01;31m\u001b[Kerror: \u001b[m\u001b[Kload_img.c: No such file or directory\n",
            "\u001b[01m\u001b[Kgcc:\u001b[m\u001b[K \u001b[01;31m\u001b[Kfatal error: \u001b[m\u001b[Kno input files\n",
            "compilation terminated.\n",
            "/bin/bash: ./a.out: No such file or directory\n"
          ]
        }
      ]
    },
    {
      "cell_type": "markdown",
      "source": [
        "# Richardson-Lucy Algorithm"
      ],
      "metadata": {
        "id": "ERzyqfObuBbd"
      }
    },
    {
      "cell_type": "code",
      "source": [
        "%%writefile final.cu\n",
        "#include <stdio.h>\n",
        "#include <stdlib.h>\n",
        "\n",
        "#define MAX_ROWS 170\n",
        "#define MAX_COLS 115\n",
        "\n",
        "#define PIX 115\n",
        "\n",
        "#define H 6\n",
        "#define NUM 115 * 115\n",
        "#define SIGMA 25\n",
        "\n",
        "/*READING THE DATA*/\n",
        "void dataread(float * y) {\n",
        "    int i;\n",
        "    FILE * fp;\n",
        "    fp = fopen(\"mylenna\", \"r\");\n",
        "    for (i = 0; i < NUM; i++) {\n",
        "        fscanf(fp, \"%f \", & y[i]);\n",
        "    }\n",
        "    return;\n",
        "}\n",
        "\n",
        "void spread(float * p) {\n",
        "    int i, j;\n",
        "    float temp = 0;\n",
        "    for (i = -H; i <= H; i++) {\n",
        "        for (j = -H; j <= H; j++) {\n",
        "            p[i * i + j * j] = exp(-((float)(i * i + j * j)) / SIGMA);\n",
        "            temp += p[i * i + j * j];\n",
        "        }\n",
        "    }\n",
        "    for (i = -H; i <= H; i++)\n",
        "        for (j = -H; j <= H; j++)\n",
        "            p[i * i + j * j] = p[i * i + j * j] / temp;\n",
        "    return;\n",
        "}\n",
        "\n",
        "__device__ int distance(int i, int j, int k, int l) {\n",
        "    int d;\n",
        "    d = (i - k) * (i - k) + (j - l) * (j - l);\n",
        "    return d;\n",
        "}\n",
        "\n",
        "/*RENEW THE VALUE OF LAMBDA VECTOR*/\n",
        "void renew(float * lold, float * lnew) {\n",
        "    int i;\n",
        "    for (i = 0; i < NUM; i++)\n",
        "        lold[i] = lnew[i];\n",
        "    return;\n",
        "}\n",
        "\n",
        "/*SAVING THE DATA*/\n",
        "void datasave(float * l) {\n",
        "    int i, j;\n",
        "    FILE * fp;\n",
        "    fp = fopen(\"mylenn\", \"w\");\n",
        "    for (i = 0; i < PIX; i++) {\n",
        "        for (j = 0; j < PIX; j++) {\n",
        "            fprintf(fp, \"%f \", l[i * PIX + j]);\n",
        "        }\n",
        "        fprintf(fp, \"\\n\");\n",
        "    }\n",
        "    return;\n",
        "}\n",
        "\n",
        "__global__ void lambda(float *y, float *lold, float *lnew, float *p) {\n",
        "    int i1=blockIdx.y;\n",
        "    int i2=blockIdx.x;\n",
        "\n",
        "    int tmp=0;\n",
        "    for (int j1 = max(0, i1 - H + 1); j1 < min(i1 + H - 1, PIX); j1++) {\n",
        "        for (int j2 = max(0, i2 - H + 1); j2 < min(i2 + H - 1, PIX); j2++) {\n",
        "            int temp = 0;\n",
        "            for (int k1 = max(0, i1 - H + 1); k1 < min(i1 + H - 1, PIX); k1++) {\n",
        "                for (int k2 = max(0, i2 - H + 1); k2 < min(i2 + H - 1, PIX); k2++) {\n",
        "                    temp = temp + lold[k1 * PIX + k2] * p[distance(j1, j2, k1, k2)];\n",
        "                }\n",
        "                tmp = tmp + y[j1 * PIX + j2] * (p[distance(j1, j2, i1, i2)]) / temp;\n",
        "            }\n",
        "        }\n",
        "        lnew[i1 * PIX + i2] = lold[i1 * PIX + i2] * tmp;\n",
        "    }\n",
        "}\n",
        "\n",
        "int main() {\n",
        "    \n",
        "    FILE* file = fopen(\"image_text.txt\", \"r\");\n",
        "    int y[MAX_ROWS][MAX_COLS];\n",
        "    int num_rows = 0;\n",
        "    int num_cols = 0;\n",
        "\n",
        "    if (file == NULL) {\n",
        "        printf(\"Error: could not open file.\\n\");\n",
        "        return 1;\n",
        "    }\n",
        "\n",
        "    // Read the contents of the file\n",
        "    while (!feof(file) && num_rows < MAX_ROWS) {\n",
        "        for (num_cols = 0; num_cols < MAX_COLS && !feof(file); num_cols++) {\n",
        "            fscanf(file, \"%d\", &matrix[num_rows][num_cols]);\n",
        "        }\n",
        "        num_rows++;\n",
        "    }\n",
        "\n",
        "    // Print the contents of the matrix\n",
        "    for (int i = 0; i < num_rows; i++) {\n",
        "        for (int j = 0; j < num_cols; j++) {\n",
        "            //printf(\"%d \", matrix[i][j]);\n",
        "        }\n",
        "        //printf(\"\\n\");\n",
        "    }\n",
        "    \n",
        "\n",
        "    int i;\n",
        "    float *y, *lold, *lnew, *p;\n",
        "\n",
        "    y = (float*)malloc(NUM * sizeof(float));\n",
        "    lold = (float*)malloc(NUM * sizeof(float));\n",
        "    lnew = (float*)malloc(NUM * sizeof(float));\n",
        "\n",
        "    p = (float*)malloc((2 * (H + 1) * (H + 1)) * sizeof(float));\n",
        "    printf(\"Result1:\\n\");\n",
        "    spread(p);\n",
        "    \n",
        "    dataread(lold);\n",
        "    printf(\"Result2:\\n\");\n",
        "    float *d_y, * d_lold, *d_lnew, *d_p;\n",
        "\n",
        "    cudaMalloc((void**)&d_y, NUM * sizeof(float));\n",
        "    cudaMalloc((void**)&d_lold, NUM * sizeof(float));\n",
        "    cudaMalloc((void**)&d_lnew, NUM * sizeof(float));\n",
        "    cudaMalloc((void**)&d_p, NUM * sizeof(float));\n",
        "\n",
        "    cudaMemcpy(d_y, &y, NUM * sizeof(float), cudaMemcpyHostToDevice);\n",
        "    cudaMemcpy(d_lold, &lold, NUM * sizeof(float), cudaMemcpyHostToDevice);\n",
        "    cudaMemcpy(d_lnew, &lnew, NUM * sizeof(float), cudaMemcpyHostToDevice);\n",
        "    cudaMemcpy(d_p, &p, NUM * sizeof(float), cudaMemcpyHostToDevice);\n",
        "\n",
        "    dim3 grid(PIX, PIX, 1);\n",
        "\n",
        "    printf(\"Result:\\n\");\n",
        "\n",
        "    for (i = 0; i < 1; i++) {\n",
        "        lambda<<<grid, 1>>>(y, lold, lnew, p);\n",
        "\n",
        "        cudaMemcpy(lnew, d_lnew, NUM * sizeof(float), cudaMemcpyDeviceToHost);\n",
        "\n",
        "        renew(lold, lnew);\n",
        "        printf(\"%d \\n\", i);\n",
        "    }\n",
        "\n",
        "    //datasave(lnew);\n",
        "    printf(\"Result:\\n\");\n",
        "    for (int i = 0; i < num_rows; i++) {\n",
        "        for (int j = 0; j < num_cols; j++) {\n",
        "            printf(\"%f \", lnew[i*num_cols+j]);\n",
        "        }\n",
        "        printf(\"\\n\");\n",
        "    }\n",
        "\n",
        "    free(p);\n",
        "    free(y);\n",
        "    free(lnew);\n",
        "    free(lold);\n",
        "\n",
        "    fclose(file);\n",
        "    return 0;\n",
        "}\n"
      ],
      "metadata": {
        "colab": {
          "base_uri": "https://localhost:8080/"
        },
        "id": "6d2JfeeKh1_C",
        "outputId": "50b4a9c6-799c-4d93-86eb-a1bc59d65ca6"
      },
      "execution_count": 13,
      "outputs": [
        {
          "output_type": "stream",
          "name": "stdout",
          "text": [
            "Writing final.cu\n"
          ]
        }
      ]
    },
    {
      "cell_type": "code",
      "source": [
        "!nvcc final.cu"
      ],
      "metadata": {
        "id": "fP0pUoA3pTQO"
      },
      "execution_count": null,
      "outputs": []
    },
    {
      "cell_type": "code",
      "source": [
        "!./a.out"
      ],
      "metadata": {
        "id": "yekd_Y1pre16",
        "outputId": "fa5aae45-bb07-4526-b014-98c46ffbe53b",
        "colab": {
          "base_uri": "https://localhost:8080/"
        }
      },
      "execution_count": null,
      "outputs": [
        {
          "output_type": "stream",
          "name": "stdout",
          "text": [
            "Result1:\n"
          ]
        }
      ]
    },
    {
      "cell_type": "code",
      "source": [
        "% % writefile trial1.cu\n",
        "#include <stdio.h>\n",
        "\n",
        "#include <math.h>\n",
        "\n",
        "#include <stdlib.h>\n",
        "\n",
        "#define H 6\n",
        "#define PIX 248\n",
        "#define NUM 248 * 248\n",
        "#define SIGMA 25\n",
        "#ifndef max\n",
        "#define max(a, b)(((a) > (b)) ? (a) : (b))\n",
        "#endif\n",
        "#ifndef min\n",
        "#define min(a, b)(((a) < (b)) ? (a) : (b))\n",
        "#endif\n",
        "\n",
        "void dataread(float * y);\n",
        "int distance(int i, int j, int k, int l);\n",
        "void lambda(float * y, float * lold, float * lnew, float * p);\n",
        "void renew(float * lold, float * lnew);\n",
        "void spread(float * p);\n",
        "void datasave(float * l);\n",
        "int main(void) {\n",
        "    int i;\n",
        "    float * y, * lold, * lnew, * p, ttt;\n",
        "    y = malloc(NUM * sizeof(float));\n",
        "    lold = malloc(NUM * sizeof(float));\n",
        "    lnew = malloc(NUM * sizeof(float));\n",
        "    p = malloc((2 * (H + 1) * (H + 1)) * sizeof(float));\n",
        "    spread(p);\n",
        "    dataread(y);\n",
        "    dataread(lold);\n",
        "    for (i = 0; i < 40; i++) {\n",
        "        lambda(y, lold, lnew, p);\n",
        "        renew(lold, lnew);\n",
        "        printf(\"%d \\n\", i);\n",
        "    }\n",
        "    datasave(lnew);\n",
        "    free(p);\n",
        "    free(y);\n",
        "    free(lnew);\n",
        "    free(lold);\n",
        "    return 0;\n",
        "}\n",
        "/*READING THE DATA*/\n",
        "void dataread(float * y) {\n",
        "    int i;\n",
        "    FILE * fp;\n",
        "    fp = fopen(\"mylenna\", \"r\");\n",
        "    for (i = 0; i < NUM; i++) {\n",
        "        fscanf(fp, \"%f \", & y[i]);\n",
        "    }\n",
        "    return;\n",
        "}\n",
        "/*DEFINING A NORM*/\n",
        "int distance(int i, int j, int k, int l) {\n",
        "    int d;\n",
        "    d = (i - k) * (i - k) + (j - l) * (j - l);\n",
        "    return d;\n",
        "}\n",
        "/*LAMBDA VECTOR*/\n",
        "void lambda(float * y, float * lold, float * lnew, float * p) {\n",
        "        int i1, i2, j1, j2, k1, k2;\n",
        "        float temp, tmp;\n",
        "        for (i1 = 0; i1 < PIX; i1++) {\n",
        "            for (i2 = 0; i2 < PIX; i2++) {\n",
        "                tmp = 0;\n",
        "                for (j1 = max(0, i1 - H + 1); j1 < min(i1 + H - 1, PIX); j1++) {\n",
        "                    for (j2 = max(0, i2 - H + 1); j2 < min(i2 + H - 1, PIX); j2++) {\n",
        "                        temp = 0;\n",
        "                        for (k1 = max(0, i1 - H + 1); k1 < min(i1 + H - 1, PIX); k1++) {\n",
        "                            for (k2 = max(0, i2 - H + 1); k2 < min(i2 + H - 1, PIX); k2++) {\n",
        "                                temp = temp + lold[k1 * PIX + k2] * p[distance(j1, j2, k1, k2)];\n",
        "                            }\n",
        "                            tmp = tmp + y[j1 * PIX + j2] * (p[distance(j1, j2, i1, i2)]) / temp;\n",
        "                        }\n",
        "                    }\n",
        "                    lnew[i1 * PIX + i2] = lold[i1 * PIX + i2] * tmp;\n",
        "                }\n",
        "            }\n",
        "            return;\n",
        "        }\n",
        "        colab - workspace.ipynb\n",
        "        /*Point Spread Function*/\n",
        "        void spread(float * p) {\n",
        "            int i, j;\n",
        "            float temp = 0;\n",
        "            for (i = -H; i <= H; i++) {\n",
        "                for (j = -H; j <= H; j++) {\n",
        "                    p[i * i + j * j] = exp(-((float)(i * i + j * j)) / SIGMA);\n",
        "                    temp += p[i * i + j * j];\n",
        "                }\n",
        "            }\n",
        "            for (i = -H; i <= H; i++)\n",
        "                for (j = -H; j <= H; j++)\n",
        "                    p[i * i + j * j] = p[i * i + j * j] / temp;\n",
        "            return;\n",
        "        }\n",
        "        /*RENEW THE VALUE OF LAMBDA VECTOR*/\n",
        "        void renew(float * lold, float * lnew) {\n",
        "            int i;\n",
        "            for (i = 0; i < NUM; i++)\n",
        "                lold[i] = lnew[i];\n",
        "            return;\n",
        "        }\n",
        "        /*SAVING THE DATA*/\n",
        "        void datasave(float * l) {\n",
        "            int i, j;\n",
        "            FILE * fp;\n",
        "            fp = fopen(\"mylenn\", \"w\");\n",
        "            for (i = 0; i < PIX; i++) {\n",
        "                for (j = 0; j < PIX; j++) {\n",
        "                    fprintf(fp, \"%f \", l[i * PIX + j]);\n",
        "                }\n",
        "                fprintf(fp, \"\\n\");\n",
        "            }\n",
        "            return;\n",
        "        }"
      ],
      "metadata": {
        "colab": {
          "base_uri": "https://localhost:8080/"
        },
        "id": "I4iAoMrRa1zM",
        "outputId": "9ea6a3e4-81da-4683-ef1f-7aef4591c9e8"
      },
      "execution_count": null,
      "outputs": [
        {
          "output_type": "stream",
          "name": "stdout",
          "text": [
            "Writing trial1.cu\n"
          ]
        }
      ]
    },
    {
      "cell_type": "code",
      "source": [
        "!nvcc -arch=sm_37 -gencode=arch=compute_37,code=sm_37 l9q1a.cu -o l9q1a"
      ],
      "metadata": {
        "colab": {
          "base_uri": "https://localhost:8080/"
        },
        "id": "MgZKDm09a8V2",
        "outputId": "1caafe02-2a75-4f2e-aa7e-3c1372cb2b94"
      },
      "execution_count": null,
      "outputs": [
        {
          "output_type": "stream",
          "name": "stdout",
          "text": [
            "nvcc warning : The 'compute_35', 'compute_37', 'sm_35', and 'sm_37' architectures are deprecated, and may be removed in a future release (Use -Wno-deprecated-gpu-targets to suppress warning).\n",
            "\u001b[01m\u001b[Kgcc:\u001b[m\u001b[K \u001b[01;31m\u001b[Kerror: \u001b[m\u001b[Kl9q1a.cu: No such file or directory\n",
            "\u001b[01m\u001b[Kgcc:\u001b[m\u001b[K \u001b[01;35m\u001b[Kwarning: \u001b[m\u001b[K‘\u001b[01m\u001b[K-x c++\u001b[m\u001b[K’ after last input file has no effect\n",
            "\u001b[01m\u001b[Kgcc:\u001b[m\u001b[K \u001b[01;31m\u001b[Kfatal error: \u001b[m\u001b[Kno input files\n",
            "compilation terminated.\n"
          ]
        }
      ]
    },
    {
      "cell_type": "code",
      "source": [
        "!./l9q1a"
      ],
      "metadata": {
        "colab": {
          "base_uri": "https://localhost:8080/"
        },
        "id": "8crnGl6DaLwN",
        "outputId": "2812fc2e-53ae-4d8e-8e47-4405a45ac5d9"
      },
      "execution_count": null,
      "outputs": [
        {
          "output_type": "stream",
          "name": "stdout",
          "text": [
            "/bin/bash: ./l9q1a: No such file or directory\n"
          ]
        }
      ]
    },
    {
      "cell_type": "code",
      "source": [
        "%%writefile final.cu\n",
        "#include <stdio.h>\n",
        "#include <stdlib.h>\n",
        "\n",
        "#define MAX_ROWS 115\n",
        "#define MAX_COLS 115\n",
        "\n",
        "#define PIX 115\n",
        "\n",
        "#define H 6\n",
        "#define NUM 115 * 115\n",
        "#define SIGMA 25\n",
        "\n",
        "/*READING THE DATA*/\n",
        "void dataread(float * y) {\n",
        "    int i;\n",
        "    FILE * fp;\n",
        "    fp = fopen(\"mylenna\", \"r\");\n",
        "    for (i = 0; i < NUM; i++) {\n",
        "        fscanf(fp, \"%f \", & y[i]);\n",
        "    }\n",
        "    return;\n",
        "}\n",
        "\n",
        "void spread(float * p) {\n",
        "    int i, j;\n",
        "    float temp = 0;\n",
        "    for (i = -H; i <= H; i++) {\n",
        "        for (j = -H; j <= H; j++) {\n",
        "            p[i * i + j * j] = exp(-((float)(i * i + j * j)) / SIGMA);\n",
        "            temp += p[i * i + j * j];\n",
        "            printf(\"%f\\n\", p[i*i+j*j]);\n",
        "        }\n",
        "    }\n",
        "    for (i = -H; i <= H; i++)\n",
        "        for (j = -H; j <= H; j++)\n",
        "            p[i * i + j * j] = p[i * i + j * j] / temp;\n",
        "    return;\n",
        "}\n",
        "\n",
        "__device__ int distance(int i, int j, int k, int l) {\n",
        "    int d;\n",
        "    d = (i - k) * (i - k) + (j - l) * (j - l);\n",
        "    return d;\n",
        "}\n",
        "\n",
        "/*RENEW THE VALUE OF LAMBDA VECTOR*/\n",
        "void renew(float * lold, float * lnew) {\n",
        "    int i;\n",
        "    for (i = 0; i < NUM; i++)\n",
        "        lold[i] = lnew[i];\n",
        "    return;\n",
        "}\n",
        "\n",
        "/*SAVING THE DATA*/\n",
        "void datasave(float * l) {\n",
        "    int i, j;\n",
        "    FILE * fp;\n",
        "    fp = fopen(\"mylenn\", \"w\");\n",
        "    for (i = 0; i < PIX; i++) {\n",
        "        for (j = 0; j < PIX; j++) {\n",
        "            fprintf(fp, \"%f \", l[i * PIX + j]);\n",
        "        }\n",
        "        fprintf(fp, \"\\n\");\n",
        "    }\n",
        "    return;\n",
        "}\n",
        "\n",
        "__global__ void lambda(float *y, float *lold, float *lnew, float *p) {\n",
        "    int i1=blockIdx.y;\n",
        "    int i2=blockIdx.x;\n",
        "    float tmp=0;\n",
        "    for (int j1 = max(0, i1 - H + 1); j1 < min(i1 + H - 1, PIX); j1++) {\n",
        "        for (int j2 = max(0, i2 - H + 1); j2 < min(i2 + H - 1, PIX); j2++) {\n",
        "            float temp = 0;\n",
        "            for (int k1 = max(0, i1 - H + 1); k1 < min(i1 + H - 1, PIX); k1++) {\n",
        "                for (int k2 = max(0, i2 - H + 1); k2 < min(i2 + H - 1, PIX); k2++) {\n",
        "                    temp = temp + lold[k1 * PIX + k2] * p[distance(j1, j2, k1, k2)];\n",
        "                    //if(i1==0 && i2==0)\n",
        "                    //printf(\"%f\\n\", temp);\n",
        "\n",
        "                }\n",
        "                tmp = tmp + y[j1 * PIX + j2] * (p[distance(j1, j2, i1, i2)]) / temp;\n",
        "            }\n",
        "        }\n",
        "        lnew[i1 * PIX + i2] = lold[i1 * PIX + i2] * tmp;\n",
        "        //printf(\"%f\\n\", lnew[i1 * PIX + i2]);\n",
        "\n",
        "    }\n",
        "}\n",
        "\n",
        "int main() {\n",
        "    \n",
        "    FILE* file = fopen(\"image_text.txt\", \"r\");\n",
        "    int img[MAX_ROWS][MAX_COLS];\n",
        "    int num_rows = 0;\n",
        "    int num_cols = 0;\n",
        "\n",
        "    if (file == NULL) {\n",
        "        printf(\"Error: could not open file.\\n\");\n",
        "        return 1;\n",
        "    }\n",
        "\n",
        "    // Read the contents of the file\n",
        "    while (!feof(file) && num_rows < MAX_ROWS) {\n",
        "        for (num_cols = 0; num_cols < MAX_COLS && !feof(file); num_cols++) {\n",
        "            fscanf(file, \"%d\", &img[num_rows][num_cols]);\n",
        "        }\n",
        "        num_rows++;\n",
        "    }\n",
        "\n",
        "    \n",
        "\n",
        "    int i;\n",
        "    float *y, *lold, *lnew, *p;\n",
        "\n",
        "    y = (float*)malloc(NUM * sizeof(float));\n",
        "    lold = (float*)malloc(NUM * sizeof(float));\n",
        "    lnew = (float*)malloc(NUM * sizeof(float));\n",
        "\n",
        "    p = (float*)malloc((2 * (H + 1) * (H + 1)) * sizeof(float));\n",
        "    printf(\"Result1:\\n\");\n",
        "    spread(p);\n",
        "    //for (int i=0; i<(2 * (H + 1) * (H + 1)); i++)\n",
        "      //  printf(\"%f\\n\", p[i]);\n",
        "    \n",
        "    //dataread(lold);\n",
        "    for(int i=0; i<MAX_ROWS; i++){\n",
        "        for (int j=0; j<MAX_COLS; j++){\n",
        "            lold[i*MAX_COLS + j] = img[i][j];\n",
        "            y[i*MAX_COLS + j] = img[i][j];\n",
        "\n",
        "        }\n",
        "    }\n",
        "    printf(\"Result2:\\n\");\n",
        "    float *d_y, * d_lold, *d_lnew, *d_p;\n",
        "\n",
        "    cudaMalloc((void**)&d_y, NUM * sizeof(float));\n",
        "    cudaMalloc((void**)&d_lold, NUM * sizeof(float));\n",
        "    cudaMalloc((void**)&d_lnew, NUM * sizeof(float));\n",
        "    cudaMalloc((void**)&d_p, NUM * sizeof(float));\n",
        "\n",
        "    cudaMemcpy(d_y, &y, NUM * sizeof(float), cudaMemcpyHostToDevice);\n",
        "    cudaMemcpy(d_lold, &lold, NUM * sizeof(float), cudaMemcpyHostToDevice);\n",
        "    cudaMemcpy(d_lnew, &lnew, NUM * sizeof(float), cudaMemcpyHostToDevice);\n",
        "    cudaMemcpy(d_p, &p, NUM * sizeof(float), cudaMemcpyHostToDevice);\n",
        "\n",
        "    dim3 grid(PIX, PIX, 1);\n",
        "\n",
        "    printf(\"Result:\\n\");\n",
        "\n",
        "    for (i = 0; i < 1; i++) {\n",
        "        lambda<<<grid, 1>>>(d_y, d_lold, d_lnew, d_p);\n",
        "\n",
        "        cudaMemcpy(&lold, d_lnew, NUM * sizeof(float), cudaMemcpyDeviceToHost);\n",
        "        printf(\"%d \\n\", i);\n",
        "    }\n",
        "    cudaMemcpy(lnew, d_lnew, NUM * sizeof(float), cudaMemcpyHostToDevice);\n",
        "\n",
        "\n",
        "    //datasave(lnew);\n",
        "    printf(\"Result:\\n\");\n",
        "    for (int i = 0; i < num_rows; i++) {\n",
        "        for (int j = 0; j < num_cols; j++) {\n",
        "            printf(\"%f \", lnew[i*num_cols+j]);\n",
        "        }\n",
        "        printf(\"\\n\");\n",
        "    }\n",
        "\n",
        "    free(p);\n",
        "    free(y);\n",
        "    free(lnew);\n",
        "    free(lold);\n",
        "\n",
        "    fclose(file);\n",
        "    return 0;\n",
        "}\n"
      ],
      "metadata": {
        "id": "euV9F4c4C9S-",
        "colab": {
          "base_uri": "https://localhost:8080/"
        },
        "outputId": "62c3f114-d0fb-4db8-f0a2-4262036065f4"
      },
      "execution_count": 42,
      "outputs": [
        {
          "output_type": "stream",
          "name": "stdout",
          "text": [
            "Overwriting final.cu\n"
          ]
        }
      ]
    },
    {
      "cell_type": "code",
      "source": [
        "!nvcc final.cu && ./a.out"
      ],
      "metadata": {
        "colab": {
          "base_uri": "https://localhost:8080/"
        },
        "id": "_DJhgQsvC6R4",
        "outputId": "ac1486dc-b1e5-4af5-fc47-81d9b7efc618"
      },
      "execution_count": 43,
      "outputs": [
        {
          "output_type": "stream",
          "name": "stdout",
          "text": [
            "Result1:\n",
            "0.056135\n",
            "0.087161\n",
            "0.124930\n",
            "0.165299\n",
            "0.201897\n",
            "0.227638\n",
            "0.236928\n",
            "0.227638\n",
            "0.201897\n",
            "0.165299\n",
            "0.124930\n",
            "0.087161\n",
            "0.056135\n",
            "0.087161\n",
            "0.135335\n",
            "0.193980\n",
            "0.256661\n",
            "0.313486\n",
            "0.353455\n",
            "0.367879\n",
            "0.353455\n",
            "0.313486\n",
            "0.256661\n",
            "0.193980\n",
            "0.135335\n",
            "0.087161\n",
            "0.124930\n",
            "0.193980\n",
            "0.278037\n",
            "0.367879\n",
            "0.449329\n",
            "0.506617\n",
            "0.527292\n",
            "0.506617\n",
            "0.449329\n",
            "0.367879\n",
            "0.278037\n",
            "0.193980\n",
            "0.124930\n",
            "0.165299\n",
            "0.256661\n",
            "0.367879\n",
            "0.486752\n",
            "0.594521\n",
            "0.670320\n",
            "0.697676\n",
            "0.670320\n",
            "0.594521\n",
            "0.486752\n",
            "0.367879\n",
            "0.256661\n",
            "0.165299\n",
            "0.201897\n",
            "0.313486\n",
            "0.449329\n",
            "0.594521\n",
            "0.726149\n",
            "0.818731\n",
            "0.852144\n",
            "0.818731\n",
            "0.726149\n",
            "0.594521\n",
            "0.449329\n",
            "0.313486\n",
            "0.201897\n",
            "0.227638\n",
            "0.353455\n",
            "0.506617\n",
            "0.670320\n",
            "0.818731\n",
            "0.923116\n",
            "0.960789\n",
            "0.923116\n",
            "0.818731\n",
            "0.670320\n",
            "0.506617\n",
            "0.353455\n",
            "0.227638\n",
            "0.236928\n",
            "0.367879\n",
            "0.527292\n",
            "0.697676\n",
            "0.852144\n",
            "0.960789\n",
            "1.000000\n",
            "0.960789\n",
            "0.852144\n",
            "0.697676\n",
            "0.527292\n",
            "0.367879\n",
            "0.236928\n",
            "0.227638\n",
            "0.353455\n",
            "0.506617\n",
            "0.670320\n",
            "0.818731\n",
            "0.923116\n",
            "0.960789\n",
            "0.923116\n",
            "0.818731\n",
            "0.670320\n",
            "0.506617\n",
            "0.353455\n",
            "0.227638\n",
            "0.201897\n",
            "0.313486\n",
            "0.449329\n",
            "0.594521\n",
            "0.726149\n",
            "0.818731\n",
            "0.852144\n",
            "0.818731\n",
            "0.726149\n",
            "0.594521\n",
            "0.449329\n",
            "0.313486\n",
            "0.201897\n",
            "0.165299\n",
            "0.256661\n",
            "0.367879\n",
            "0.486752\n",
            "0.594521\n",
            "0.670320\n",
            "0.697676\n",
            "0.670320\n",
            "0.594521\n",
            "0.486752\n",
            "0.367879\n",
            "0.256661\n",
            "0.165299\n",
            "0.124930\n",
            "0.193980\n",
            "0.278037\n",
            "0.367879\n",
            "0.449329\n",
            "0.506617\n",
            "0.527292\n",
            "0.506617\n",
            "0.449329\n",
            "0.367879\n",
            "0.278037\n",
            "0.193980\n",
            "0.124930\n",
            "0.087161\n",
            "0.135335\n",
            "0.193980\n",
            "0.256661\n",
            "0.313486\n",
            "0.353455\n",
            "0.367879\n",
            "0.353455\n",
            "0.313486\n",
            "0.256661\n",
            "0.193980\n",
            "0.135335\n",
            "0.087161\n",
            "0.056135\n",
            "0.087161\n",
            "0.124930\n",
            "0.165299\n",
            "0.201897\n",
            "0.227638\n",
            "0.236928\n",
            "0.227638\n",
            "0.201897\n",
            "0.165299\n",
            "0.124930\n",
            "0.087161\n",
            "0.056135\n",
            "Result2:\n",
            "Result:\n",
            "0 \n",
            "Result:\n"
          ]
        }
      ]
    },
    {
      "cell_type": "code",
      "source": [],
      "metadata": {
        "id": "mDDKHrFHDHd7"
      },
      "execution_count": null,
      "outputs": []
    }
  ]
}