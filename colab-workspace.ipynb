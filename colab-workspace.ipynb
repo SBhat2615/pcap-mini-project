{
  "nbformat": 4,
  "nbformat_minor": 0,
  "metadata": {
    "colab": {
      "provenance": [],
      "include_colab_link": true
    },
    "kernelspec": {
      "name": "python3",
      "display_name": "Python 3"
    },
    "language_info": {
      "name": "python"
    },
    "accelerator": "GPU"
  },
  "cells": [
    {
      "cell_type": "markdown",
      "metadata": {
        "id": "view-in-github",
        "colab_type": "text"
      },
      "source": [
        "<a href=\"https://colab.research.google.com/github/SBhat2615/pcap-mini-project/blob/main/colab-workspace.ipynb\" target=\"_parent\"><img src=\"https://colab.research.google.com/assets/colab-badge.svg\" alt=\"Open In Colab\"/></a>"
      ]
    },
    {
      "cell_type": "code",
      "source": [
        "# To show that if there is cuda tookit installed\n",
        "!ls /usr/local"
      ],
      "metadata": {
        "id": "FJNaVYXrsyX1",
        "colab": {
          "base_uri": "https://localhost:8080/"
        },
        "outputId": "302de355-19bb-49ce-ef45-8ead59efbf68"
      },
      "execution_count": null,
      "outputs": [
        {
          "output_type": "stream",
          "name": "stdout",
          "text": [
            "bin    cuda\tcuda-11.8  games\t       include\tlib64\t   man\t share\n",
            "colab  cuda-11\tetc\t   _gcs_config_ops.so  lib\tlicensing  sbin  src\n"
          ]
        }
      ]
    },
    {
      "cell_type": "code",
      "source": [
        "# To show that if we have the nvcc command\n",
        "!which nvcc"
      ],
      "metadata": {
        "id": "EWeDREa1tIGH",
        "colab": {
          "base_uri": "https://localhost:8080/"
        },
        "outputId": "00799d96-b111-4141-8fa1-17847b07b38e"
      },
      "execution_count": null,
      "outputs": [
        {
          "output_type": "stream",
          "name": "stdout",
          "text": [
            "/usr/local/cuda/bin/nvcc\n"
          ]
        }
      ]
    },
    {
      "cell_type": "code",
      "source": [
        "# To show the property of the nvidia card(On my one, I use the K80)\n",
        "!nvidia-smi"
      ],
      "metadata": {
        "id": "hctj5aYxtSwK",
        "colab": {
          "base_uri": "https://localhost:8080/"
        },
        "outputId": "41d7fcb6-bf20-4668-9f35-cd0689ec5a03"
      },
      "execution_count": null,
      "outputs": [
        {
          "output_type": "stream",
          "name": "stdout",
          "text": [
            "Wed Apr 19 03:37:18 2023       \n",
            "+-----------------------------------------------------------------------------+\n",
            "| NVIDIA-SMI 525.85.12    Driver Version: 525.85.12    CUDA Version: 12.0     |\n",
            "|-------------------------------+----------------------+----------------------+\n",
            "| GPU  Name        Persistence-M| Bus-Id        Disp.A | Volatile Uncorr. ECC |\n",
            "| Fan  Temp  Perf  Pwr:Usage/Cap|         Memory-Usage | GPU-Util  Compute M. |\n",
            "|                               |                      |               MIG M. |\n",
            "|===============================+======================+======================|\n",
            "|   0  Tesla T4            Off  | 00000000:00:04.0 Off |                    0 |\n",
            "| N/A   58C    P8     9W /  70W |      0MiB / 15360MiB |      0%      Default |\n",
            "|                               |                      |                  N/A |\n",
            "+-------------------------------+----------------------+----------------------+\n",
            "                                                                               \n",
            "+-----------------------------------------------------------------------------+\n",
            "| Processes:                                                                  |\n",
            "|  GPU   GI   CI        PID   Type   Process name                  GPU Memory |\n",
            "|        ID   ID                                                   Usage      |\n",
            "|=============================================================================|\n",
            "|  No running processes found                                                 |\n",
            "+-----------------------------------------------------------------------------+\n"
          ]
        }
      ]
    },
    {
      "cell_type": "code",
      "source": [
        "%%writefile trial1.cu\n",
        "#include <stdio.h>\n",
        "#include <math.h>\n",
        "#include <stdlib.h>\n",
        "#define H 6\n",
        "#define PIX 248\n",
        "#define NUM 248 * 248\n",
        "#define SIGMA 25\n",
        "#ifndef max\n",
        "#define max( a, b ) ( ((a) > (b)) ? (a) : (b) )\n",
        "#endif\n",
        "#ifndef min\n",
        "#define min( a, b ) ( ((a) < (b)) ? (a) : (b) )\n",
        "#endif\n",
        "void dataread(float *y);\n",
        "int distance(int i, int j, int k, int l);\n",
        "void lambda(float *y, float *lold, float *lnew, float *p);\n",
        "void renew(float *lold,float *lnew);\n",
        "void spread(float *p);\n",
        "void datasave(float *l);\n",
        "int main(void){\n",
        "int i;\n",
        "float *y, *lold, *lnew, *p, ttt;\n",
        "y = malloc(NUM * sizeof(float));\n",
        "lold = malloc(NUM * sizeof(float));\n",
        "lnew = malloc(NUM * sizeof(float));\n",
        "p = malloc((2 * (H + 1) * (H + 1)) * sizeof(float));\n",
        "spread(p);\n",
        "dataread(y);\n",
        "dataread(lold);\n",
        "for(i = 0; i < 40; i++){\n",
        "lambda(y, lold, lnew, p);\n",
        "renew(lold, lnew);\n",
        "printf(\"%d \\n\",i);\n",
        "}\n",
        "datasave(lnew);\n",
        "free(p);\n",
        "free(y);\n",
        "free(lnew);\n",
        "free(lold);\n",
        "return 0;\n",
        "}\n",
        "/*READING THE DATA*/\n",
        "void dataread(float *y){\n",
        "int i;\n",
        "FILE *fp;\n",
        "fp = fopen(\"mylenna\",\"r\");\n",
        "for(i = 0; i < NUM; i++){\n",
        "fscanf(fp,\"%f \",&y[i]);\n",
        "}\n",
        "return;\n",
        "}\n",
        "/*DEFINING A NORM*/\n",
        "int distance(int i, int j, int k, int l){\n",
        "int d;\n",
        "d = (i - k) * (i - k) + (j - l) * (j - l);\n",
        "return d;\n",
        "}\n",
        "/*LAMBDA VECTOR*/\n",
        "void lambda(float *y, float *lold, float *lnew, float *p){\n",
        "int i1, i2, j1, j2, k1, k2;\n",
        "float temp, tmp;\n",
        "for(i1 = 0; i1 < PIX; i1++){\n",
        "for(i2 = 0; i2 < PIX; i2++){\n",
        "tmp = 0;\n",
        "for(j1 = max(0, i1 - H + 1); j1 < min(i1 + H - 1, PIX); j1++){\n",
        "for(j2 = max(0, i2 - H + 1); j2 < min(i2 + H - 1, PIX); j2++){\n",
        "temp = 0;\n",
        "for(k1 = max(0, i1 - H + 1); k1 < min(i1 + H - 1, PIX); k1++){\n",
        "for(k2 = max(0, i2 - H + 1); k2 < min(i2 + H - 1, PIX); k2++){\n",
        "temp = temp + lold[k1 * PIX + k2] * p[distance(j1,j2,k1,k2)];\n",
        "}\n",
        "tmp = tmp + y[j1 * PIX + j2] * (p[distance(j1,j2,i1,i2)])/temp;\n",
        "}\n",
        "}\n",
        "lnew[i1 * PIX + i2] = lold[i1 * PIX + i2] * tmp;\n",
        "}\n",
        "}\n",
        "return;\n",
        "}\n",
        "/*Point Spread Function*/\n",
        "void spread(float *p){\n",
        "int i, j;\n",
        "float temp = 0;\n",
        "for(i = -H; i <= H; i++){\n",
        "for(j = -H; j <= H; j++){\n",
        "p[i * i + j * j] = exp(-((float)(i * i + j * j))/SIGMA);\n",
        "temp += p[i * i + j * j];\n",
        "}\n",
        "}\n",
        "for(i = -H; i <= H; i++)\n",
        "for(j = -H; j <= H; j++)\n",
        "p[i * i + j * j] = p[i * i + j * j]/temp;\n",
        "return;\n",
        "}\n",
        "/*RENEW THE VALUE OF LAMBDA VECTOR*/\n",
        "void renew(float *lold,float *lnew){\n",
        "int i;\n",
        "for(i = 0; i < NUM; i++)\n",
        "lold[i] = lnew[i];\n",
        "return;\n",
        "}\n",
        "/*SAVING THE DATA*/\n",
        "void datasave(float *l){\n",
        "int i, j;\n",
        "FILE *fp;\n",
        "fp = fopen(\"mylenn\",\"w\");\n",
        "for(i = 0; i < PIX; i++){\n",
        "for(j = 0; j < PIX; j++){\n",
        "fprintf(fp,\"%f \",l[i * PIX + j]);\n",
        "}\n",
        "fprintf(fp,\"\\n\");\n",
        "}\n",
        "return;\n",
        "}"
      ],
      "metadata": {
        "colab": {
          "base_uri": "https://localhost:8080/"
        },
        "id": "I4iAoMrRa1zM",
        "outputId": "181c8174-be6e-4eb5-8793-7d4aa22f5d62"
      },
      "execution_count": null,
      "outputs": [
        {
          "output_type": "stream",
          "name": "stdout",
          "text": [
            "Overwriting l9q1a.cu\n"
          ]
        }
      ]
    },
    {
      "cell_type": "code",
      "source": [
        "!nvcc -arch=sm_37 -gencode=arch=compute_37,code=sm_37 l9q1a.cu -o l9q1a"
      ],
      "metadata": {
        "colab": {
          "base_uri": "https://localhost:8080/"
        },
        "id": "MgZKDm09a8V2",
        "outputId": "9f266fd3-ff45-4314-b187-c148bf5559cc"
      },
      "execution_count": null,
      "outputs": [
        {
          "output_type": "stream",
          "name": "stdout",
          "text": [
            "nvcc warning : The 'compute_35', 'compute_37', 'sm_35', and 'sm_37' architectures are deprecated, and may be removed in a future release (Use -Wno-deprecated-gpu-targets to suppress warning).\n"
          ]
        }
      ]
    },
    {
      "cell_type": "code",
      "source": [
        "!./l9q1a"
      ],
      "metadata": {
        "colab": {
          "base_uri": "https://localhost:8080/"
        },
        "id": "8crnGl6DaLwN",
        "outputId": "a5dc0355-090f-4129-d416-aa844f78e838"
      },
      "execution_count": null,
      "outputs": [
        {
          "output_type": "stream",
          "name": "stdout",
          "text": [
            "Enter the value of m: 2\n",
            "Enter the value of n: 2\n",
            "Enter input matrix A:\n",
            "2 4 5 6\n",
            "Enter input matrix B:\n",
            "7 8 3 2\n",
            "cuda successfully ran!\n",
            "cuda successfully ran!\n",
            "Result matrix is:\n",
            "9\t12\t\n",
            "8\t8\t\n"
          ]
        }
      ]
    },
    {
      "cell_type": "code",
      "source": [],
      "metadata": {
        "id": "euV9F4c4C9S-"
      },
      "execution_count": null,
      "outputs": []
    }
  ]
}