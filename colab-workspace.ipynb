{
  "nbformat": 4,
  "nbformat_minor": 0,
  "metadata": {
    "colab": {
      "provenance": [],
      "include_colab_link": true
    },
    "kernelspec": {
      "name": "python3",
      "display_name": "Python 3"
    },
    "language_info": {
      "name": "python"
    },
    "accelerator": "GPU",
    "gpuClass": "standard"
  },
  "cells": [
    {
      "cell_type": "markdown",
      "metadata": {
        "id": "view-in-github",
        "colab_type": "text"
      },
      "source": [
        "<a href=\"https://colab.research.google.com/github/SBhat2615/pcap-mini-project/blob/main/colab-workspace.ipynb\" target=\"_parent\"><img src=\"https://colab.research.google.com/assets/colab-badge.svg\" alt=\"Open In Colab\"/></a>"
      ]
    },
    {
      "cell_type": "code",
      "source": [
        "# To show that if there is cuda tookit installed\n",
        "!ls /usr/local"
      ],
      "metadata": {
        "id": "FJNaVYXrsyX1",
        "colab": {
          "base_uri": "https://localhost:8080/"
        },
        "outputId": "93c5e74b-51d9-4e8e-f3c4-d356b1e3ac32"
      },
      "execution_count": 2,
      "outputs": [
        {
          "output_type": "stream",
          "name": "stdout",
          "text": [
            "bin    cuda\tcuda-11.8  games\t       include\tlib64\t   man\t share\n",
            "colab  cuda-11\tetc\t   _gcs_config_ops.so  lib\tlicensing  sbin  src\n"
          ]
        }
      ]
    },
    {
      "cell_type": "code",
      "source": [
        "# To show that if we have the nvcc command\n",
        "!which nvcc"
      ],
      "metadata": {
        "id": "EWeDREa1tIGH",
        "colab": {
          "base_uri": "https://localhost:8080/"
        },
        "outputId": "f4e4c680-704b-42d4-f604-be43d57eca12"
      },
      "execution_count": 3,
      "outputs": [
        {
          "output_type": "stream",
          "name": "stdout",
          "text": [
            "/usr/local/cuda/bin/nvcc\n"
          ]
        }
      ]
    },
    {
      "cell_type": "code",
      "source": [
        "# To show the property of the nvidia card(On my one, I use the K80)\n",
        "!nvidia-smi"
      ],
      "metadata": {
        "id": "hctj5aYxtSwK",
        "colab": {
          "base_uri": "https://localhost:8080/"
        },
        "outputId": "a1e55f51-6ef2-4cb1-fc05-e9ab4f2656fe"
      },
      "execution_count": 4,
      "outputs": [
        {
          "output_type": "stream",
          "name": "stdout",
          "text": [
            "Thu Apr 27 13:24:53 2023       \n",
            "+-----------------------------------------------------------------------------+\n",
            "| NVIDIA-SMI 525.85.12    Driver Version: 525.85.12    CUDA Version: 12.0     |\n",
            "|-------------------------------+----------------------+----------------------+\n",
            "| GPU  Name        Persistence-M| Bus-Id        Disp.A | Volatile Uncorr. ECC |\n",
            "| Fan  Temp  Perf  Pwr:Usage/Cap|         Memory-Usage | GPU-Util  Compute M. |\n",
            "|                               |                      |               MIG M. |\n",
            "|===============================+======================+======================|\n",
            "|   0  Tesla T4            Off  | 00000000:00:04.0 Off |                    0 |\n",
            "| N/A   34C    P8     9W /  70W |      0MiB / 15360MiB |      0%      Default |\n",
            "|                               |                      |                  N/A |\n",
            "+-------------------------------+----------------------+----------------------+\n",
            "                                                                               \n",
            "+-----------------------------------------------------------------------------+\n",
            "| Processes:                                                                  |\n",
            "|  GPU   GI   CI        PID   Type   Process name                  GPU Memory |\n",
            "|        ID   ID                                                   Usage      |\n",
            "|=============================================================================|\n",
            "|  No running processes found                                                 |\n",
            "+-----------------------------------------------------------------------------+\n"
          ]
        }
      ]
    },
    {
      "cell_type": "code",
      "source": [],
      "metadata": {
        "id": "iYzFu-yMxFoF"
      },
      "execution_count": null,
      "outputs": []
    },
    {
      "cell_type": "markdown",
      "source": [
        "#Download Image"
      ],
      "metadata": {
        "id": "Hg6mF372xGwL"
      }
    },
    {
      "cell_type": "code",
      "source": [
        "!wget https://github.com/SBhat2615/pcap-mini-project/blob/main/image.jpg"
      ],
      "metadata": {
        "id": "4FYHP7aypzL_",
        "outputId": "3563a562-e122-49a4-8f35-cfeb3c005d4e",
        "colab": {
          "base_uri": "https://localhost:8080/"
        }
      },
      "execution_count": 5,
      "outputs": [
        {
          "output_type": "stream",
          "name": "stdout",
          "text": [
            "--2023-04-27 13:25:04--  https://github.com/SBhat2615/pcap-mini-project/blob/main/image.jpg\n",
            "Resolving github.com (github.com)... 140.82.121.3\n",
            "Connecting to github.com (github.com)|140.82.121.3|:443... connected.\n",
            "HTTP request sent, awaiting response... 200 OK\n",
            "Length: unspecified [text/html]\n",
            "Saving to: ‘image.jpg’\n",
            "\n",
            "image.jpg               [ <=>                ] 135.71K  --.-KB/s    in 0.02s   \n",
            "\n",
            "2023-04-27 13:25:04 (5.75 MB/s) - ‘image.jpg’ saved [138969]\n",
            "\n"
          ]
        }
      ]
    },
    {
      "cell_type": "code",
      "source": [
        "!ls -l"
      ],
      "metadata": {
        "id": "NnY4xJJ7qHiO",
        "outputId": "12704287-c460-4196-c181-ac04a0df4d7e",
        "colab": {
          "base_uri": "https://localhost:8080/"
        }
      },
      "execution_count": 6,
      "outputs": [
        {
          "output_type": "stream",
          "name": "stdout",
          "text": [
            "total 140\n",
            "-rw-r--r-- 1 root root 138969 Apr 27 13:25 image.jpg\n",
            "drwxr-xr-x 1 root root   4096 Apr 25 13:34 sample_data\n"
          ]
        }
      ]
    },
    {
      "cell_type": "code",
      "source": [
        "!pwd"
      ],
      "metadata": {
        "id": "oKCLg47Fus7M",
        "outputId": "faa9b2c7-e31c-4253-8517-f4c6da591deb",
        "colab": {
          "base_uri": "https://localhost:8080/"
        }
      },
      "execution_count": 7,
      "outputs": [
        {
          "output_type": "stream",
          "name": "stdout",
          "text": [
            "/content\n"
          ]
        }
      ]
    },
    {
      "cell_type": "markdown",
      "source": [
        "# Image to GrayScale"
      ],
      "metadata": {
        "id": "ZWsVdRuLyIrG"
      }
    },
    {
      "cell_type": "code",
      "source": [
        "\"\"\"\n",
        "from PIL import Image\n",
        "\n",
        "# Open the image file\n",
        "img = Image.open('/content/image.jpg')\n",
        "\n",
        "# Convert to grayscale\n",
        "gray_img = img.convert('L')\n",
        "\n",
        "# Display the grayscale image\n",
        "gray_img.show()\n",
        "\n",
        "# Save the grayscale image\n",
        "gray_img.save('/content/imageGray.jpg')\n",
        "\"\"\""
      ],
      "metadata": {
        "id": "78cN53xfySQi",
        "outputId": "d5f8be9f-ba34-45e7-9844-a1359c745242",
        "colab": {
          "base_uri": "https://localhost:8080/",
          "height": 71
        }
      },
      "execution_count": 8,
      "outputs": [
        {
          "output_type": "execute_result",
          "data": {
            "text/plain": [
              "\"\\nfrom PIL import Image\\n\\n# Open the image file\\nimg = Image.open('/content/image.jpg')\\n\\n# Convert to grayscale\\ngray_img = img.convert('L')\\n\\n# Display the grayscale image\\ngray_img.show()\\n\\n# Save the grayscale image\\ngray_img.save('/content/imageGray.jpg')\\n\""
            ],
            "application/vnd.google.colaboratory.intrinsic+json": {
              "type": "string"
            }
          },
          "metadata": {},
          "execution_count": 8
        }
      ]
    },
    {
      "cell_type": "markdown",
      "source": [
        "# Load Image"
      ],
      "metadata": {
        "id": "Bp35fKpGnzfN"
      }
    },
    {
      "cell_type": "code",
      "source": [
        "%%writefile loadImg.c\n",
        "#include <stdio.h>\n",
        "#include <stdlib.h>\n",
        "\n",
        "// Define Image Height & Width\n",
        "#define IMG_WIDTH 512\n",
        "#define IMG_HEIGHT 512\n",
        "\n",
        "int main() {\n",
        "    FILE *fp;\n",
        "    char *filename = \"./image.jpg\";\n",
        "    unsigned char img[IMG_HEIGHT][IMG_WIDTH];\n",
        "    int i, j;\n",
        "\n",
        "    // Open image file\n",
        "    if ((fp = fopen(filename, \"rb\")) == NULL) {\n",
        "        printf(\"Error: Image file not found\\n\");\n",
        "        return 1;\n",
        "    }\n",
        "\n",
        "    // Skip image header\n",
        "    fseek(fp, 8, SEEK_SET);\n",
        "\n",
        "    // Read image pixel values\n",
        "    for (i = 0; i < IMG_HEIGHT; i++) {\n",
        "        for (j = 0; j < IMG_WIDTH; j++) {\n",
        "            img[i][j] = fgetc(fp);\n",
        "        }\n",
        "    }\n",
        "\n",
        "    // Close image file\n",
        "    fclose(fp);\n",
        "\n",
        "    // Print image data\n",
        "    /*\n",
        "    for (i = 0; i < IMG_HEIGHT; i++) {\n",
        "        for (j = 0; j < IMG_WIDTH; j++) {\n",
        "            printf(\"%u \", img[i][j]);\n",
        "        }\n",
        "        printf(\"\\n\");\n",
        "    }\n",
        "    */\n",
        "    printf(\"Image Width : %d\\n\", IMG_WIDTH);\n",
        "    printf(\"Image Height : %d\\n\", IMG_HEIGHT);\n",
        "\n",
        "    printf(\"Image Matrix:\\n\");\n",
        "    for (i = 0; i < 25; i++) {\n",
        "        for (j = 0; j < 25; j++) {\n",
        "            printf(\"%u \", img[i][j]);\n",
        "        }\n",
        "        printf(\"\\n\");\n",
        "    }\n",
        "\n",
        "    return 0;\n",
        "}\n"
      ],
      "metadata": {
        "id": "lW6gCVh_nsVq",
        "outputId": "7ec065f3-1950-4560-fb70-5b72a600be08",
        "colab": {
          "base_uri": "https://localhost:8080/"
        }
      },
      "execution_count": 9,
      "outputs": [
        {
          "output_type": "stream",
          "name": "stdout",
          "text": [
            "Writing loadImg.c\n"
          ]
        }
      ]
    },
    {
      "cell_type": "code",
      "source": [
        "!gcc loadImg.c"
      ],
      "metadata": {
        "id": "l9EBu7i8uBDF"
      },
      "execution_count": 10,
      "outputs": []
    },
    {
      "cell_type": "code",
      "source": [
        "!./a.out"
      ],
      "metadata": {
        "id": "d16HjuyNuM-J",
        "outputId": "000ce72a-1aec-48e5-fc72-af7657f37201",
        "colab": {
          "base_uri": "https://localhost:8080/"
        }
      },
      "execution_count": 11,
      "outputs": [
        {
          "output_type": "stream",
          "name": "stdout",
          "text": [
            "Image Width : 512\n",
            "Image Height : 512\n",
            "Image Matrix:\n",
            "33 68 79 67 84 89 80 69 32 104 116 109 108 62 10 60 104 116 109 108 32 108 97 110 103 \n",
            "105 116 104 117 98 97 115 115 101 116 115 46 99 111 109 34 32 99 114 111 115 115 111 114 105 \n",
            "100 105 109 109 101 100 45 57 98 57 97 56 99 57 49 97 99 99 53 46 99 115 115 34 32 \n",
            "98 46 103 105 116 104 117 98 97 115 115 101 116 115 46 99 111 109 47 97 115 115 101 116 115 \n",
            "108 61 34 115 116 121 108 101 115 104 101 101 116 34 32 100 97 116 97 45 104 114 101 102 61 \n",
            "10 32 32 60 108 105 110 107 32 99 114 111 115 115 111 114 105 103 105 110 61 34 97 110 111 \n",
            "117 111 116 59 99 111 110 100 105 116 105 111 110 115 38 113 117 111 116 59 58 32 38 113 117 \n",
            "113 117 111 116 59 105 100 38 113 117 111 116 59 58 32 38 113 117 111 116 59 49 54 56 50 \n",
            "100 38 113 117 111 116 59 58 32 38 113 117 111 116 59 50 48 55 56 53 52 55 48 49 57 \n",
            "58 32 38 113 117 111 116 59 115 117 98 109 105 116 46 111 114 103 97 110 105 122 97 116 105 \n",
            "113 117 111 116 59 105 100 38 113 117 111 116 59 58 32 38 113 117 111 116 59 49 56 49 56 \n",
            "101 112 111 115 105 116 111 114 121 38 113 117 111 116 59 125 44 32 123 38 113 117 111 116 59 \n",
            "32 38 113 117 111 116 59 49 56 50 50 52 51 54 48 55 56 53 38 113 117 111 116 59 44 \n",
            "32 123 38 113 117 111 116 59 101 120 112 101 114 105 109 101 110 116 73 100 115 38 113 117 111 \n",
            "119 46 99 108 97 115 115 114 111 111 109 95 110 97 109 101 38 113 117 111 116 59 125 44 32 \n",
            "59 44 32 38 113 117 111 116 59 107 101 121 38 113 117 111 116 59 58 32 38 113 117 111 116 \n",
            "59 49 57 48 54 52 48 54 52 53 49 53 38 113 117 111 116 59 44 32 38 113 117 111 116 \n",
            "49 50 48 57 54 51 48 55 48 38 113 117 111 116 59 44 32 38 113 117 111 116 59 107 101 \n",
            "117 111 116 59 58 32 38 113 117 111 116 59 49 57 53 52 48 57 55 48 54 51 53 38 113 \n",
            "117 111 116 59 105 100 38 113 117 111 116 59 58 32 38 113 117 111 116 59 50 48 48 51 54 \n",
            "112 101 114 105 109 101 110 116 73 100 115 38 113 117 111 116 59 58 32 91 93 44 32 38 113 \n",
            "105 110 117 101 46 112 97 115 115 119 111 114 100 38 113 117 111 116 59 125 44 32 123 38 113 \n",
            "111 114 103 97 110 105 122 97 116 105 111 110 38 113 117 111 116 59 125 44 32 123 38 113 117 \n",
            "58 32 38 113 117 111 116 59 50 48 50 51 56 49 55 53 55 56 52 38 113 117 111 116 59 \n",
            "59 101 120 112 101 114 105 109 101 110 116 73 100 115 38 113 117 111 116 59 58 32 91 93 44 \n"
          ]
        }
      ]
    },
    {
      "cell_type": "markdown",
      "source": [
        "# Richardson-Lucy Algorithm"
      ],
      "metadata": {
        "id": "ERzyqfObuBbd"
      }
    },
    {
      "cell_type": "code",
      "source": [
        "%%writefile trial1.cu\n",
        "#include <stdio.h>\n",
        "#include <math.h>\n",
        "#include <stdlib.h>\n",
        "#define H 6\n",
        "#define PIX 248\n",
        "#define NUM 248 * 248\n",
        "#define SIGMA 25\n",
        "#ifndef max\n",
        "#define max( a, b ) ( ((a) > (b)) ? (a) : (b) )\n",
        "#endif\n",
        "#ifndef min\n",
        "#define min( a, b ) ( ((a) < (b)) ? (a) : (b) )\n",
        "#endif\n",
        "void dataread(float *y);\n",
        "int distance(int i, int j, int k, int l);\n",
        "void lambda(float *y, float *lold, float *lnew, float *p);\n",
        "void renew(float *lold,float *lnew);\n",
        "void spread(float *p);\n",
        "void datasave(float *l);\n",
        "int main(void){\n",
        "int i;\n",
        "float *y, *lold, *lnew, *p, ttt;\n",
        "y = malloc(NUM * sizeof(float));\n",
        "lold = malloc(NUM * sizeof(float));\n",
        "lnew = malloc(NUM * sizeof(float));\n",
        "p = malloc((2 * (H + 1) * (H + 1)) * sizeof(float));\n",
        "spread(p);\n",
        "dataread(y);\n",
        "dataread(lold);\n",
        "for(i = 0; i < 40; i++){\n",
        "lambda(y, lold, lnew, p);\n",
        "renew(lold, lnew);\n",
        "printf(\"%d \\n\",i);\n",
        "}\n",
        "datasave(lnew);\n",
        "free(p);\n",
        "free(y);\n",
        "free(lnew);\n",
        "free(lold);\n",
        "return 0;\n",
        "}\n",
        "/*READING THE DATA*/\n",
        "void dataread(float *y){\n",
        "int i;\n",
        "FILE *fp;\n",
        "fp = fopen(\"mylenna\",\"r\");\n",
        "for(i = 0; i < NUM; i++){\n",
        "fscanf(fp,\"%f \",&y[i]);\n",
        "}\n",
        "return;\n",
        "}\n",
        "/*DEFINING A NORM*/\n",
        "int distance(int i, int j, int k, int l){\n",
        "int d;\n",
        "d = (i - k) * (i - k) + (j - l) * (j - l);\n",
        "return d;\n",
        "}\n",
        "/*LAMBDA VECTOR*/\n",
        "void lambda(float *y, float *lold, float *lnew, float *p){\n",
        "int i1, i2, j1, j2, k1, k2;\n",
        "float temp, tmp;\n",
        "for(i1 = 0; i1 < PIX; i1++){\n",
        "for(i2 = 0; i2 < PIX; i2++){\n",
        "tmp = 0;\n",
        "for(j1 = max(0, i1 - H + 1); j1 < min(i1 + H - 1, PIX); j1++){\n",
        "for(j2 = max(0, i2 - H + 1); j2 < min(i2 + H - 1, PIX); j2++){\n",
        "temp = 0;\n",
        "for(k1 = max(0, i1 - H + 1); k1 < min(i1 + H - 1, PIX); k1++){\n",
        "for(k2 = max(0, i2 - H + 1); k2 < min(i2 + H - 1, PIX); k2++){\n",
        "temp = temp + lold[k1 * PIX + k2] * p[distance(j1,j2,k1,k2)];\n",
        "}\n",
        "tmp = tmp + y[j1 * PIX + j2] * (p[distance(j1,j2,i1,i2)])/temp;\n",
        "}\n",
        "}\n",
        "lnew[i1 * PIX + i2] = lold[i1 * PIX + i2] * tmp;\n",
        "}\n",
        "}\n",
        "return;\n",
        "}\n",
        "/*Point Spread Function*/\n",
        "void spread(float *p){\n",
        "int i, j;\n",
        "float temp = 0;\n",
        "for(i = -H; i <= H; i++){\n",
        "for(j = -H; j <= H; j++){\n",
        "p[i * i + j * j] = exp(-((float)(i * i + j * j))/SIGMA);\n",
        "temp += p[i * i + j * j];\n",
        "}\n",
        "}\n",
        "for(i = -H; i <= H; i++)\n",
        "for(j = -H; j <= H; j++)\n",
        "p[i * i + j * j] = p[i * i + j * j]/temp;\n",
        "return;\n",
        "}\n",
        "/*RENEW THE VALUE OF LAMBDA VECTOR*/\n",
        "void renew(float *lold,float *lnew){\n",
        "int i;\n",
        "for(i = 0; i < NUM; i++)\n",
        "lold[i] = lnew[i];\n",
        "return;\n",
        "}\n",
        "/*SAVING THE DATA*/\n",
        "void datasave(float *l){\n",
        "int i, j;\n",
        "FILE *fp;\n",
        "fp = fopen(\"mylenn\",\"w\");\n",
        "for(i = 0; i < PIX; i++){\n",
        "for(j = 0; j < PIX; j++){\n",
        "fprintf(fp,\"%f \",l[i * PIX + j]);\n",
        "}\n",
        "fprintf(fp,\"\\n\");\n",
        "}\n",
        "return;\n",
        "}"
      ],
      "metadata": {
        "colab": {
          "base_uri": "https://localhost:8080/"
        },
        "id": "I4iAoMrRa1zM",
        "outputId": "181c8174-be6e-4eb5-8793-7d4aa22f5d62"
      },
      "execution_count": null,
      "outputs": [
        {
          "output_type": "stream",
          "name": "stdout",
          "text": [
            "Overwriting l9q1a.cu\n"
          ]
        }
      ]
    },
    {
      "cell_type": "code",
      "source": [
        "!nvcc -arch=sm_37 -gencode=arch=compute_37,code=sm_37 l9q1a.cu -o l9q1a"
      ],
      "metadata": {
        "colab": {
          "base_uri": "https://localhost:8080/"
        },
        "id": "MgZKDm09a8V2",
        "outputId": "9f266fd3-ff45-4314-b187-c148bf5559cc"
      },
      "execution_count": null,
      "outputs": [
        {
          "output_type": "stream",
          "name": "stdout",
          "text": [
            "nvcc warning : The 'compute_35', 'compute_37', 'sm_35', and 'sm_37' architectures are deprecated, and may be removed in a future release (Use -Wno-deprecated-gpu-targets to suppress warning).\n"
          ]
        }
      ]
    },
    {
      "cell_type": "code",
      "source": [
        "!./l9q1a"
      ],
      "metadata": {
        "colab": {
          "base_uri": "https://localhost:8080/"
        },
        "id": "8crnGl6DaLwN",
        "outputId": "a5dc0355-090f-4129-d416-aa844f78e838"
      },
      "execution_count": null,
      "outputs": [
        {
          "output_type": "stream",
          "name": "stdout",
          "text": [
            "Enter the value of m: 2\n",
            "Enter the value of n: 2\n",
            "Enter input matrix A:\n",
            "2 4 5 6\n",
            "Enter input matrix B:\n",
            "7 8 3 2\n",
            "cuda successfully ran!\n",
            "cuda successfully ran!\n",
            "Result matrix is:\n",
            "9\t12\t\n",
            "8\t8\t\n"
          ]
        }
      ]
    },
    {
      "cell_type": "code",
      "source": [],
      "metadata": {
        "id": "euV9F4c4C9S-"
      },
      "execution_count": null,
      "outputs": []
    }
  ]
}