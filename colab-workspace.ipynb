{
  "nbformat": 4,
  "nbformat_minor": 0,
  "metadata": {
    "colab": {
      "provenance": [],
      "include_colab_link": true
    },
    "kernelspec": {
      "name": "python3",
      "display_name": "Python 3"
    },
    "language_info": {
      "name": "python"
    },
    "accelerator": "GPU"
  },
  "cells": [
    {
      "cell_type": "markdown",
      "metadata": {
        "id": "view-in-github",
        "colab_type": "text"
      },
      "source": [
        "<a href=\"https://colab.research.google.com/github/SBhat2615/pcap-mini-project/blob/main/colab-workspace.ipynb\" target=\"_parent\"><img src=\"https://colab.research.google.com/assets/colab-badge.svg\" alt=\"Open In Colab\"/></a>"
      ]
    },
    {
      "cell_type": "code",
      "source": [
        "# To show that if there is cuda tookit installed\n",
        "!ls /usr/local"
      ],
      "metadata": {
        "id": "FJNaVYXrsyX1",
        "colab": {
          "base_uri": "https://localhost:8080/"
        },
        "outputId": "302de355-19bb-49ce-ef45-8ead59efbf68"
      },
      "execution_count": null,
      "outputs": [
        {
          "output_type": "stream",
          "name": "stdout",
          "text": [
            "bin    cuda\tcuda-11.8  games\t       include\tlib64\t   man\t share\n",
            "colab  cuda-11\tetc\t   _gcs_config_ops.so  lib\tlicensing  sbin  src\n"
          ]
        }
      ]
    },
    {
      "cell_type": "code",
      "source": [
        "# To show that if we have the nvcc command\n",
        "!which nvcc"
      ],
      "metadata": {
        "id": "EWeDREa1tIGH",
        "colab": {
          "base_uri": "https://localhost:8080/"
        },
        "outputId": "00799d96-b111-4141-8fa1-17847b07b38e"
      },
      "execution_count": null,
      "outputs": [
        {
          "output_type": "stream",
          "name": "stdout",
          "text": [
            "/usr/local/cuda/bin/nvcc\n"
          ]
        }
      ]
    },
    {
      "cell_type": "code",
      "source": [
        "# To show the property of the nvidia card(On my one, I use the K80)\n",
        "!nvidia-smi"
      ],
      "metadata": {
        "id": "hctj5aYxtSwK",
        "colab": {
          "base_uri": "https://localhost:8080/"
        },
        "outputId": "41d7fcb6-bf20-4668-9f35-cd0689ec5a03"
      },
      "execution_count": null,
      "outputs": [
        {
          "output_type": "stream",
          "name": "stdout",
          "text": [
            "Wed Apr 19 03:37:18 2023       \n",
            "+-----------------------------------------------------------------------------+\n",
            "| NVIDIA-SMI 525.85.12    Driver Version: 525.85.12    CUDA Version: 12.0     |\n",
            "|-------------------------------+----------------------+----------------------+\n",
            "| GPU  Name        Persistence-M| Bus-Id        Disp.A | Volatile Uncorr. ECC |\n",
            "| Fan  Temp  Perf  Pwr:Usage/Cap|         Memory-Usage | GPU-Util  Compute M. |\n",
            "|                               |                      |               MIG M. |\n",
            "|===============================+======================+======================|\n",
            "|   0  Tesla T4            Off  | 00000000:00:04.0 Off |                    0 |\n",
            "| N/A   58C    P8     9W /  70W |      0MiB / 15360MiB |      0%      Default |\n",
            "|                               |                      |                  N/A |\n",
            "+-------------------------------+----------------------+----------------------+\n",
            "                                                                               \n",
            "+-----------------------------------------------------------------------------+\n",
            "| Processes:                                                                  |\n",
            "|  GPU   GI   CI        PID   Type   Process name                  GPU Memory |\n",
            "|        ID   ID                                                   Usage      |\n",
            "|=============================================================================|\n",
            "|  No running processes found                                                 |\n",
            "+-----------------------------------------------------------------------------+\n"
          ]
        }
      ]
    },
    {
      "cell_type": "code",
      "source": [
        "%%writefile l9q1a.cu\n",
        "#include \"cuda_runtime.h\"\n",
        "#include \"device_launch_parameters.h\"\n",
        "#include <stdio.h>\n",
        "#include <stdlib.h>\n",
        "__global__ void add_a(int *a, int *b, int *t)\n",
        "{\n",
        "\tint id = blockIdx.x;\n",
        "\tt[id] = a[id] + b[id];\n",
        "}\n",
        "\t\n",
        "int main(void)\n",
        "{\n",
        "\tint m,n,i,j;\n",
        "\tint *d_a,*d_t, *d_b;\n",
        "\tprintf(\"Enter the value of m: \");scanf(\"%d\",&m);\n",
        "\tprintf(\"Enter the value of n: \");scanf(\"%d\",&n);\n",
        "\tint size=sizeof(int)*m*n;\n",
        "\n",
        "\tprintf(\"Enter input matrix A:\\n\");\n",
        "\n",
        "\tint a[m*n], b[m*n], t[m*n];\n",
        "\tfor(i=0;i<m*n;i++)\n",
        "\t\tscanf(\"%d\",&a[i]);\n",
        "\n",
        "\tprintf(\"Enter input matrix B:\\n\");\n",
        "\tfor(i=0;i<m*n;i++)\n",
        "\t\tscanf(\"%d\",&b[i]);\n",
        "\n",
        "\tcudaMalloc((void**)&d_a,size);\n",
        "\tcudaMalloc((void**)&d_b,size);\n",
        "\tcudaMalloc((void**)&d_t,size);\n",
        "\n",
        "\tcudaMemcpy(d_a,a,size,cudaMemcpyHostToDevice);\n",
        "\tcudaMemcpy(d_b,b,size,cudaMemcpyHostToDevice);\n",
        "\n",
        "\tdim3 bb(m,n);\n",
        "\tadd_a<<<m*n, 1>>>(d_a, d_b, d_t);\n",
        "\tprintf(\"cuda successfully ran!\\n\");\n",
        "\n",
        "\tcudaMemcpy(t,d_t,size,cudaMemcpyDeviceToHost);\n",
        "\tprintf(\"cuda successfully ran!\\n\");\n",
        "\n",
        "\tprintf(\"Result matrix is:\\n\");\n",
        "\tfor(i=0;i<m;i++)\n",
        "\t{\n",
        "\t\tfor(j=0;j<n;j++)\n",
        "\t\t\tprintf(\"%d\\t\",t[i*m+j]);\n",
        "\t\tprintf(\"\\n\");\n",
        "\t}\n",
        "\n",
        "\tgetchar();\n",
        "\tcudaFree(d_a);\n",
        "\tcudaFree(d_b);\n",
        "\tcudaFree(d_t);\n",
        "\treturn 0;\n",
        "}"
      ],
      "metadata": {
        "colab": {
          "base_uri": "https://localhost:8080/"
        },
        "id": "I4iAoMrRa1zM",
        "outputId": "181c8174-be6e-4eb5-8793-7d4aa22f5d62"
      },
      "execution_count": null,
      "outputs": [
        {
          "output_type": "stream",
          "name": "stdout",
          "text": [
            "Overwriting l9q1a.cu\n"
          ]
        }
      ]
    },
    {
      "cell_type": "code",
      "source": [
        "!nvcc -arch=sm_37 -gencode=arch=compute_37,code=sm_37 l9q1a.cu -o l9q1a"
      ],
      "metadata": {
        "colab": {
          "base_uri": "https://localhost:8080/"
        },
        "id": "MgZKDm09a8V2",
        "outputId": "9f266fd3-ff45-4314-b187-c148bf5559cc"
      },
      "execution_count": null,
      "outputs": [
        {
          "output_type": "stream",
          "name": "stdout",
          "text": [
            "nvcc warning : The 'compute_35', 'compute_37', 'sm_35', and 'sm_37' architectures are deprecated, and may be removed in a future release (Use -Wno-deprecated-gpu-targets to suppress warning).\n"
          ]
        }
      ]
    },
    {
      "cell_type": "code",
      "source": [
        "!./l9q1a"
      ],
      "metadata": {
        "colab": {
          "base_uri": "https://localhost:8080/"
        },
        "id": "8crnGl6DaLwN",
        "outputId": "a5dc0355-090f-4129-d416-aa844f78e838"
      },
      "execution_count": null,
      "outputs": [
        {
          "output_type": "stream",
          "name": "stdout",
          "text": [
            "Enter the value of m: 2\n",
            "Enter the value of n: 2\n",
            "Enter input matrix A:\n",
            "2 4 5 6\n",
            "Enter input matrix B:\n",
            "7 8 3 2\n",
            "cuda successfully ran!\n",
            "cuda successfully ran!\n",
            "Result matrix is:\n",
            "9\t12\t\n",
            "8\t8\t\n"
          ]
        }
      ]
    },
    {
      "cell_type": "code",
      "source": [],
      "metadata": {
        "id": "euV9F4c4C9S-"
      },
      "execution_count": null,
      "outputs": []
    }
  ]
}