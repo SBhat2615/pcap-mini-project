{
  "nbformat": 4,
  "nbformat_minor": 0,
  "metadata": {
    "colab": {
      "provenance": [],
      "include_colab_link": true
    },
    "kernelspec": {
      "name": "python3",
      "display_name": "Python 3"
    },
    "language_info": {
      "name": "python"
    },
    "accelerator": "GPU",
    "gpuClass": "standard"
  },
  "cells": [
    {
      "cell_type": "markdown",
      "metadata": {
        "id": "view-in-github",
        "colab_type": "text"
      },
      "source": [
        "<a href=\"https://colab.research.google.com/github/SBhat2615/pcap-mini-project/blob/main/colab-workspace.ipynb\" target=\"_parent\"><img src=\"https://colab.research.google.com/assets/colab-badge.svg\" alt=\"Open In Colab\"/></a>"
      ]
    },
    {
      "cell_type": "code",
      "source": [
        "# To show that if there is cuda tookit installed\n",
        "!ls /usr/local"
      ],
      "metadata": {
        "id": "FJNaVYXrsyX1",
        "colab": {
          "base_uri": "https://localhost:8080/"
        },
        "outputId": "93c5e74b-51d9-4e8e-f3c4-d356b1e3ac32"
      },
      "execution_count": 2,
      "outputs": [
        {
          "output_type": "stream",
          "name": "stdout",
          "text": [
            "bin    cuda\tcuda-11.8  games\t       include\tlib64\t   man\t share\n",
            "colab  cuda-11\tetc\t   _gcs_config_ops.so  lib\tlicensing  sbin  src\n"
          ]
        }
      ]
    },
    {
      "cell_type": "code",
      "source": [
        "# To show that if we have the nvcc command\n",
        "!which nvcc"
      ],
      "metadata": {
        "id": "EWeDREa1tIGH",
        "colab": {
          "base_uri": "https://localhost:8080/"
        },
        "outputId": "f4e4c680-704b-42d4-f604-be43d57eca12"
      },
      "execution_count": 3,
      "outputs": [
        {
          "output_type": "stream",
          "name": "stdout",
          "text": [
            "/usr/local/cuda/bin/nvcc\n"
          ]
        }
      ]
    },
    {
      "cell_type": "code",
      "source": [
        "# To show the property of the nvidia card(On my one, I use the K80)\n",
        "!nvidia-smi"
      ],
      "metadata": {
        "id": "hctj5aYxtSwK",
        "colab": {
          "base_uri": "https://localhost:8080/"
        },
        "outputId": "a1e55f51-6ef2-4cb1-fc05-e9ab4f2656fe"
      },
      "execution_count": 4,
      "outputs": [
        {
          "output_type": "stream",
          "name": "stdout",
          "text": [
            "Thu Apr 27 13:24:53 2023       \n",
            "+-----------------------------------------------------------------------------+\n",
            "| NVIDIA-SMI 525.85.12    Driver Version: 525.85.12    CUDA Version: 12.0     |\n",
            "|-------------------------------+----------------------+----------------------+\n",
            "| GPU  Name        Persistence-M| Bus-Id        Disp.A | Volatile Uncorr. ECC |\n",
            "| Fan  Temp  Perf  Pwr:Usage/Cap|         Memory-Usage | GPU-Util  Compute M. |\n",
            "|                               |                      |               MIG M. |\n",
            "|===============================+======================+======================|\n",
            "|   0  Tesla T4            Off  | 00000000:00:04.0 Off |                    0 |\n",
            "| N/A   34C    P8     9W /  70W |      0MiB / 15360MiB |      0%      Default |\n",
            "|                               |                      |                  N/A |\n",
            "+-------------------------------+----------------------+----------------------+\n",
            "                                                                               \n",
            "+-----------------------------------------------------------------------------+\n",
            "| Processes:                                                                  |\n",
            "|  GPU   GI   CI        PID   Type   Process name                  GPU Memory |\n",
            "|        ID   ID                                                   Usage      |\n",
            "|=============================================================================|\n",
            "|  No running processes found                                                 |\n",
            "+-----------------------------------------------------------------------------+\n"
          ]
        }
      ]
    },
    {
      "cell_type": "code",
      "source": [],
      "metadata": {
        "id": "iYzFu-yMxFoF"
      },
      "execution_count": null,
      "outputs": []
    },
    {
      "cell_type": "markdown",
      "source": [
        "#Download Image"
      ],
      "metadata": {
        "id": "Hg6mF372xGwL"
      }
    },
    {
      "cell_type": "code",
      "source": [
        "!wget https://raw.githubusercontent.com/SBhat2615/pcap-mini-project/main/image.jpg"
      ],
      "metadata": {
        "id": "4FYHP7aypzL_",
        "outputId": "f90fa39f-4f4b-486a-c5f5-36d61905d257",
        "colab": {
          "base_uri": "https://localhost:8080/"
        }
      },
      "execution_count": 24,
      "outputs": [
        {
          "output_type": "stream",
          "name": "stdout",
          "text": [
            "--2023-04-27 13:51:32--  https://raw.githubusercontent.com/SBhat2615/pcap-mini-project/main/image.jpg\n",
            "Resolving raw.githubusercontent.com (raw.githubusercontent.com)... 185.199.110.133, 185.199.109.133, 185.199.108.133, ...\n",
            "Connecting to raw.githubusercontent.com (raw.githubusercontent.com)|185.199.110.133|:443... connected.\n",
            "HTTP request sent, awaiting response... 200 OK\n",
            "Length: 4305 (4.2K) [image/jpeg]\n",
            "Saving to: ‘image.jpg’\n",
            "\n",
            "\rimage.jpg             0%[                    ]       0  --.-KB/s               \rimage.jpg           100%[===================>]   4.20K  --.-KB/s    in 0s      \n",
            "\n",
            "2023-04-27 13:51:33 (61.3 MB/s) - ‘image.jpg’ saved [4305/4305]\n",
            "\n"
          ]
        }
      ]
    },
    {
      "cell_type": "code",
      "source": [
        "!ls -l"
      ],
      "metadata": {
        "id": "NnY4xJJ7qHiO",
        "outputId": "0abd6c66-2393-45cc-d391-69036ec24bfa",
        "colab": {
          "base_uri": "https://localhost:8080/"
        }
      },
      "execution_count": 25,
      "outputs": [
        {
          "output_type": "stream",
          "name": "stdout",
          "text": [
            "total 36\n",
            "-rwxr-xr-x 1 root root 17016 Apr 27 13:46 a.out\n",
            "-rw-r--r-- 1 root root  4305 Apr 27 13:51 image.jpg\n",
            "-rw-r--r-- 1 root root  1123 Apr 27 13:46 loadImg.c\n",
            "drwxr-xr-x 1 root root  4096 Apr 25 13:34 sample_data\n"
          ]
        }
      ]
    },
    {
      "cell_type": "code",
      "source": [
        "!pwd"
      ],
      "metadata": {
        "id": "oKCLg47Fus7M",
        "outputId": "c14b9ef1-fac5-4819-dc4c-bc42d91e5a73",
        "colab": {
          "base_uri": "https://localhost:8080/"
        }
      },
      "execution_count": 32,
      "outputs": [
        {
          "output_type": "stream",
          "name": "stdout",
          "text": [
            "/content\n"
          ]
        }
      ]
    },
    {
      "cell_type": "markdown",
      "source": [
        "**RUN THE BELOW 2 CELLS ONLY IF YOU HAVE RGB IMAGE UPLOADED**\n",
        "\n"
      ],
      "metadata": {
        "id": "5eiUA-Pe_wS_"
      }
    },
    {
      "cell_type": "markdown",
      "source": [
        "# Image to GrayScale"
      ],
      "metadata": {
        "id": "ZWsVdRuLyIrG"
      }
    },
    {
      "cell_type": "code",
      "source": [
        "from PIL import Image\n",
        "\n",
        "# Open the image file\n",
        "img = Image.open('/content/image.jpg')\n",
        "\n",
        "# Convert to grayscale\n",
        "gray_img = img.convert('L')\n",
        "\n",
        "# Display the grayscale image\n",
        "gray_img.show()\n",
        "\n",
        "# Save the grayscale image\n",
        "gray_img.save('/content/imageGray.jpg')"
      ],
      "metadata": {
        "id": "78cN53xfySQi",
        "outputId": "d5f8be9f-ba34-45e7-9844-a1359c745242",
        "colab": {
          "base_uri": "https://localhost:8080/",
          "height": 71
        }
      },
      "execution_count": 8,
      "outputs": [
        {
          "output_type": "execute_result",
          "data": {
            "text/plain": [
              "\"\\nfrom PIL import Image\\n\\n# Open the image file\\nimg = Image.open('/content/image.jpg')\\n\\n# Convert to grayscale\\ngray_img = img.convert('L')\\n\\n# Display the grayscale image\\ngray_img.show()\\n\\n# Save the grayscale image\\ngray_img.save('/content/imageGray.jpg')\\n\""
            ],
            "application/vnd.google.colaboratory.intrinsic+json": {
              "type": "string"
            }
          },
          "metadata": {},
          "execution_count": 8
        }
      ]
    },
    {
      "cell_type": "code",
      "source": [
        "!rm image.jpg\n",
        "!mv imageGray.jpg image.jpg"
      ],
      "metadata": {
        "id": "qsj-2Ozr_dNV"
      },
      "execution_count": null,
      "outputs": []
    },
    {
      "cell_type": "markdown",
      "source": [
        "# Display Image"
      ],
      "metadata": {
        "id": "nuPJTmE27KlV"
      }
    },
    {
      "cell_type": "code",
      "source": [
        "from matplotlib import pyplot as plt\n",
        "import cv2\n",
        "\n",
        "img = cv2.imread('./image.jpg')\n",
        "\n",
        "plt.imshow(img)\n",
        "plt.axis(\"off\")\n",
        "plt.show()"
      ],
      "metadata": {
        "id": "a4sbggmW7JWx",
        "outputId": "bc40ffc1-079f-485b-c096-1ef774bca3a8",
        "colab": {
          "base_uri": "https://localhost:8080/",
          "height": 406
        }
      },
      "execution_count": 28,
      "outputs": [
        {
          "output_type": "display_data",
          "data": {
            "text/plain": [
              "<Figure size 640x480 with 1 Axes>"
            ],
            "image/png": "[encoded data removed]"
          },
          "metadata": {}
        }
      ]
    },
    {
      "cell_type": "markdown",
      "source": [
        "# Load Image"
      ],
      "metadata": {
        "id": "Bp35fKpGnzfN"
      }
    },
    {
      "cell_type": "code",
      "source": [
        "%%writefile loadImg.c\n",
        "#include <stdio.h>\n",
        "#include <stdlib.h>\n",
        "\n",
        "// Define Image Height & Width\n",
        "#define IMG_WIDTH 512\n",
        "#define IMG_HEIGHT 512\n",
        "\n",
        "int main() {\n",
        "    FILE *fp;\n",
        "    char *filename = \"./image.jpg\";\n",
        "    unsigned char img[IMG_HEIGHT][IMG_WIDTH];\n",
        "    int i, j;\n",
        "\n",
        "    // Open image file\n",
        "    if ((fp = fopen(filename, \"rb\")) == NULL) {\n",
        "        printf(\"Error: Image file not found\\n\");\n",
        "        return 1;\n",
        "    }\n",
        "\n",
        "    // Skip image header\n",
        "    fseek(fp, 8, SEEK_SET);\n",
        "\n",
        "    // Read image pixel values\n",
        "    for (i = 0; i < IMG_HEIGHT; i++) {\n",
        "        for (j = 0; j < IMG_WIDTH; j++) {\n",
        "            img[i][j] = fgetc(fp);\n",
        "        }\n",
        "    }\n",
        "\n",
        "    // Close image file\n",
        "    fclose(fp);\n",
        "\n",
        "    // Print image data\n",
        "    /*\n",
        "    for (i = 0; i < IMG_HEIGHT; i++) {\n",
        "        for (j = 0; j < IMG_WIDTH; j++) {\n",
        "            printf(\"%u \", img[i][j]);\n",
        "        }\n",
        "        printf(\"\\n\");\n",
        "    }\n",
        "    */\n",
        "    printf(\"Image Width : %d\\n\", IMG_WIDTH);\n",
        "    printf(\"Image Height : %d\\n\", IMG_HEIGHT);\n",
        "\n",
        "    printf(\"Image Matrix:\\n\");\n",
        "    for (i = 0; i < 25; i++) {\n",
        "        for (j = 0; j < 25; j++) {\n",
        "            printf(\"%u \", img[i][j]);\n",
        "        }\n",
        "        printf(\"\\n\");\n",
        "    }\n",
        "\n",
        "    return 0;\n",
        "}\n"
      ],
      "metadata": {
        "id": "lW6gCVh_nsVq",
        "outputId": "397e335f-bc38-4d75-d8d9-a5c2f5893786",
        "colab": {
          "base_uri": "https://localhost:8080/"
        }
      },
      "execution_count": 29,
      "outputs": [
        {
          "output_type": "stream",
          "name": "stdout",
          "text": [
            "Overwriting loadImg.c\n"
          ]
        }
      ]
    },
    {
      "cell_type": "code",
      "source": [
        "!gcc loadImg.c"
      ],
      "metadata": {
        "id": "l9EBu7i8uBDF"
      },
      "execution_count": 30,
      "outputs": []
    },
    {
      "cell_type": "code",
      "source": [
        "!./a.out"
      ],
      "metadata": {
        "id": "d16HjuyNuM-J",
        "outputId": "a41c1415-0d96-4cf8-f4e1-86476b17e030",
        "colab": {
          "base_uri": "https://localhost:8080/"
        }
      },
      "execution_count": 31,
      "outputs": [
        {
          "output_type": "stream",
          "name": "stdout",
          "text": [
            "Image Width : 512\n",
            "Image Height : 512\n",
            "Image Matrix:\n",
            "73 70 0 1 1 0 0 1 0 1 0 0 255 254 0 59 67 82 69 65 84 79 82 58 32 \n",
            "27 231 249 97 5 152 145 207 76 113 233 206 56 30 249 154 15 27 94 217 172 170 89 175 37 \n",
            "242 156 130 185 61 126 96 1 193 247 246 237 214 164 107 137 96 150 67 4 184 40 188 133 127 \n",
            "198 230 196 220 92 180 118 176 110 220 177 70 12 165 142 54 128 79 0 117 39 53 243 239 139 \n",
            "207 140 34 129 133 165 148 23 45 59 112 139 26 3 215 220 255 0 64 126 181 221 120 51 80 \n",
            "240 241 199 235 94 185 225 197 242 244 136 83 25 33 1 53 122 117 243 98 33 71 62 245 196 \n",
            "19 171 178 204 153 224 16 121 174 159 64 188 210 116 54 92 182 226 223 121 206 9 99 238 107 \n",
            "195 96 16 1 48 250 147 142 199 218 164 125 80 171 144 116 251 121 177 255 0 45 60 255 0 \n",
            "140 47 74 127 221 149 58 125 220 210 200 119 108 25 206 122 243 154 116 140 190 95 7 105 45 \n",
            "255 255 255 255 255 255 255 255 255 255 255 255 255 255 255 255 255 255 255 255 255 255 255 255 255 \n",
            "255 255 255 255 255 255 255 255 255 255 255 255 255 255 255 255 255 255 255 255 255 255 255 255 255 \n",
            "255 255 255 255 255 255 255 255 255 255 255 255 255 255 255 255 255 255 255 255 255 255 255 255 255 \n",
            "255 255 255 255 255 255 255 255 255 255 255 255 255 255 255 255 255 255 255 255 255 255 255 255 255 \n",
            "255 255 255 255 255 255 255 255 255 255 255 255 255 255 255 255 255 255 255 255 255 255 255 255 255 \n",
            "255 255 255 255 255 255 255 255 255 255 255 255 255 255 255 255 255 255 255 255 255 255 255 255 255 \n",
            "255 255 255 255 255 255 255 255 255 255 255 255 255 255 255 255 255 255 255 255 255 255 255 255 255 \n",
            "255 255 255 255 255 255 255 255 255 255 255 255 255 255 255 255 255 255 255 255 255 255 255 255 255 \n",
            "255 255 255 255 255 255 255 255 255 255 255 255 255 255 255 255 255 255 255 255 255 255 255 255 255 \n",
            "255 255 255 255 255 255 255 255 255 255 255 255 255 255 255 255 255 255 255 255 255 255 255 255 255 \n",
            "255 255 255 255 255 255 255 255 255 255 255 255 255 255 255 255 255 255 255 255 255 255 255 255 255 \n",
            "255 255 255 255 255 255 255 255 255 255 255 255 255 255 255 255 255 255 255 255 255 255 255 255 255 \n",
            "255 255 255 255 255 255 255 255 255 255 255 255 255 255 255 255 255 255 255 255 255 255 255 255 255 \n",
            "255 255 255 255 255 255 255 255 255 255 255 255 255 255 255 255 255 255 255 255 255 255 255 255 255 \n",
            "255 255 255 255 255 255 255 255 255 255 255 255 255 255 255 255 255 255 255 255 255 255 255 255 255 \n",
            "255 255 255 255 255 255 255 255 255 255 255 255 255 255 255 255 255 255 255 255 255 255 255 255 255 \n"
          ]
        }
      ]
    },
    {
      "cell_type": "markdown",
      "source": [
        "# Richardson-Lucy Algorithm"
      ],
      "metadata": {
        "id": "ERzyqfObuBbd"
      }
    },
    {
      "cell_type": "code",
      "source": [
        "%%writefile trial1.cu\n",
        "#include <stdio.h>\n",
        "#include <math.h>\n",
        "#include <stdlib.h>\n",
        "#define H 6\n",
        "#define PIX 248\n",
        "#define NUM 248 * 248\n",
        "#define SIGMA 25\n",
        "#ifndef max\n",
        "#define max( a, b ) ( ((a) > (b)) ? (a) : (b) )\n",
        "#endif\n",
        "#ifndef min\n",
        "#define min( a, b ) ( ((a) < (b)) ? (a) : (b) )\n",
        "#endif\n",
        "void dataread(float *y);\n",
        "int distance(int i, int j, int k, int l);\n",
        "void lambda(float *y, float *lold, float *lnew, float *p);\n",
        "void renew(float *lold,float *lnew);\n",
        "void spread(float *p);\n",
        "void datasave(float *l);\n",
        "int main(void){\n",
        "int i;\n",
        "float *y, *lold, *lnew, *p, ttt;\n",
        "y = malloc(NUM * sizeof(float));\n",
        "lold = malloc(NUM * sizeof(float));\n",
        "lnew = malloc(NUM * sizeof(float));\n",
        "p = malloc((2 * (H + 1) * (H + 1)) * sizeof(float));\n",
        "spread(p);\n",
        "dataread(y);\n",
        "dataread(lold);\n",
        "for(i = 0; i < 40; i++){\n",
        "lambda(y, lold, lnew, p);\n",
        "renew(lold, lnew);\n",
        "printf(\"%d \\n\",i);\n",
        "}\n",
        "datasave(lnew);\n",
        "free(p);\n",
        "free(y);\n",
        "free(lnew);\n",
        "free(lold);\n",
        "return 0;\n",
        "}\n",
        "/*READING THE DATA*/\n",
        "void dataread(float *y){\n",
        "int i;\n",
        "FILE *fp;\n",
        "fp = fopen(\"mylenna\",\"r\");\n",
        "for(i = 0; i < NUM; i++){\n",
        "fscanf(fp,\"%f \",&y[i]);\n",
        "}\n",
        "return;\n",
        "}\n",
        "/*DEFINING A NORM*/\n",
        "int distance(int i, int j, int k, int l){\n",
        "int d;\n",
        "d = (i - k) * (i - k) + (j - l) * (j - l);\n",
        "return d;\n",
        "}\n",
        "/*LAMBDA VECTOR*/\n",
        "void lambda(float *y, float *lold, float *lnew, float *p){\n",
        "int i1, i2, j1, j2, k1, k2;\n",
        "float temp, tmp;\n",
        "for(i1 = 0; i1 < PIX; i1++){\n",
        "for(i2 = 0; i2 < PIX; i2++){\n",
        "tmp = 0;\n",
        "for(j1 = max(0, i1 - H + 1); j1 < min(i1 + H - 1, PIX); j1++){\n",
        "for(j2 = max(0, i2 - H + 1); j2 < min(i2 + H - 1, PIX); j2++){\n",
        "temp = 0;\n",
        "for(k1 = max(0, i1 - H + 1); k1 < min(i1 + H - 1, PIX); k1++){\n",
        "for(k2 = max(0, i2 - H + 1); k2 < min(i2 + H - 1, PIX); k2++){\n",
        "temp = temp + lold[k1 * PIX + k2] * p[distance(j1,j2,k1,k2)];\n",
        "}\n",
        "tmp = tmp + y[j1 * PIX + j2] * (p[distance(j1,j2,i1,i2)])/temp;\n",
        "}\n",
        "}\n",
        "lnew[i1 * PIX + i2] = lold[i1 * PIX + i2] * tmp;\n",
        "}\n",
        "}\n",
        "return;\n",
        "}\n",
        "/*Point Spread Function*/\n",
        "void spread(float *p){\n",
        "int i, j;\n",
        "float temp = 0;\n",
        "for(i = -H; i <= H; i++){\n",
        "for(j = -H; j <= H; j++){\n",
        "p[i * i + j * j] = exp(-((float)(i * i + j * j))/SIGMA);\n",
        "temp += p[i * i + j * j];\n",
        "}\n",
        "}\n",
        "for(i = -H; i <= H; i++)\n",
        "for(j = -H; j <= H; j++)\n",
        "p[i * i + j * j] = p[i * i + j * j]/temp;\n",
        "return;\n",
        "}\n",
        "/*RENEW THE VALUE OF LAMBDA VECTOR*/\n",
        "void renew(float *lold,float *lnew){\n",
        "int i;\n",
        "for(i = 0; i < NUM; i++)\n",
        "lold[i] = lnew[i];\n",
        "return;\n",
        "}\n",
        "/*SAVING THE DATA*/\n",
        "void datasave(float *l){\n",
        "int i, j;\n",
        "FILE *fp;\n",
        "fp = fopen(\"mylenn\",\"w\");\n",
        "for(i = 0; i < PIX; i++){\n",
        "for(j = 0; j < PIX; j++){\n",
        "fprintf(fp,\"%f \",l[i * PIX + j]);\n",
        "}\n",
        "fprintf(fp,\"\\n\");\n",
        "}\n",
        "return;\n",
        "}"
      ],
      "metadata": {
        "colab": {
          "base_uri": "https://localhost:8080/"
        },
        "id": "I4iAoMrRa1zM",
        "outputId": "181c8174-be6e-4eb5-8793-7d4aa22f5d62"
      },
      "execution_count": null,
      "outputs": [
        {
          "output_type": "stream",
          "name": "stdout",
          "text": [
            "Overwriting l9q1a.cu\n"
          ]
        }
      ]
    },
    {
      "cell_type": "code",
      "source": [
        "!nvcc -arch=sm_37 -gencode=arch=compute_37,code=sm_37 l9q1a.cu -o l9q1a"
      ],
      "metadata": {
        "colab": {
          "base_uri": "https://localhost:8080/"
        },
        "id": "MgZKDm09a8V2",
        "outputId": "9f266fd3-ff45-4314-b187-c148bf5559cc"
      },
      "execution_count": null,
      "outputs": [
        {
          "output_type": "stream",
          "name": "stdout",
          "text": [
            "nvcc warning : The 'compute_35', 'compute_37', 'sm_35', and 'sm_37' architectures are deprecated, and may be removed in a future release (Use -Wno-deprecated-gpu-targets to suppress warning).\n"
          ]
        }
      ]
    },
    {
      "cell_type": "code",
      "source": [
        "!./l9q1a"
      ],
      "metadata": {
        "colab": {
          "base_uri": "https://localhost:8080/"
        },
        "id": "8crnGl6DaLwN",
        "outputId": "a5dc0355-090f-4129-d416-aa844f78e838"
      },
      "execution_count": null,
      "outputs": [
        {
          "output_type": "stream",
          "name": "stdout",
          "text": [
            "Enter the value of m: 2\n",
            "Enter the value of n: 2\n",
            "Enter input matrix A:\n",
            "2 4 5 6\n",
            "Enter input matrix B:\n",
            "7 8 3 2\n",
            "cuda successfully ran!\n",
            "cuda successfully ran!\n",
            "Result matrix is:\n",
            "9\t12\t\n",
            "8\t8\t\n"
          ]
        }
      ]
    },
    {
      "cell_type": "code",
      "source": [],
      "metadata": {
        "id": "euV9F4c4C9S-"
      },
      "execution_count": null,
      "outputs": []
    }
  ]
}